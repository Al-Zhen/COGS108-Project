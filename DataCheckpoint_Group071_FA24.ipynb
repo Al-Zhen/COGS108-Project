{
 "cells": [
  {
   "cell_type": "markdown",
   "metadata": {
    "id": "QBL2YnPf1_24"
   },
   "source": [
    "# COGS 108 - Data Checkpoint"
   ]
  },
  {
   "cell_type": "markdown",
   "metadata": {
    "id": "fVdOBYi_1_25"
   },
   "source": [
    "# Names\n",
    "\n",
    "- Xinheng Wang\n",
    "- Takafumi Matsui\n",
    "- Alexander Zhen\n",
    "- Athena Wu\n",
    "- Chaowen Cao"
   ]
  },
  {
   "cell_type": "markdown",
   "metadata": {
    "id": "QKcgH0OF1_26"
   },
   "source": [
    "# Research Question"
   ]
  },
  {
   "cell_type": "markdown",
   "metadata": {
    "id": "pBOR1vOc1_26"
   },
   "source": [
    "### To what extent does home field advantage affect the winning rate of MLB teams, disregarding other factors not related to the home field, and how does this effect vary across different teams?\n",
    "\n",
    "By saying 'other factors not related to the home field,' we are trying to eliminate the effects regarding traveling such as jet lags or traveling time. Also, the game specific data, including how many audience were in the stadium, the weather at the game day, and the park factors."
   ]
  },
  {
   "cell_type": "markdown",
   "metadata": {
    "id": "CZaR13G71_26"
   },
   "source": [
    "# Background and Prior Work"
   ]
  },
  {
   "cell_type": "markdown",
   "metadata": {
    "id": "O528OleI1_26"
   },
   "source": [
    "\n",
    "- Include a general introduction to your topic\n",
    "- Include explanation of what work has been done previously\n",
    "- Include citations or links to previous work\n",
    "\n",
    "This section will present the background and context of your topic and question in a few paragraphs. Include a general introduction to your topic and then describe what information you currently know about the topic after doing your initial research. Include references to other projects who have asked similar questions or approached similar problems. Explain what others have learned in their projects.\n",
    "\n",
    "Find some relevant prior work, and reference those sources, summarizing what each did and what they learned. Even if you think you have a totally novel question, find the most similar prior work that you can and discuss how it relates to your project.\n",
    "\n",
    "References can be research publications, but they need not be. Blogs, GitHub repositories, company websites, etc., are all viable references if they are relevant to your project. It must be clear which information comes from which references. (2-3 paragraphs, including at least 2 references)"
   ]
  },
  {
   "cell_type": "markdown",
   "metadata": {
    "id": "CtWePW5Z1_27"
   },
   "source": [
    "  In sports, the concept of home advantage refers to the benefit that the home team is said to have over the visiting team. For instance, if a game takes place in city A, team A from city A is said to have a home advantage when playing against team B from city B. Some believe that home teams have advantages over visiting teams in both the psychological and the physical aspect. Due to physical proximity, audiences of the game are more likely to be fans of the home team.Physically, the visiting team often faces challenges such as adjusting to different time zones, unfamiliar environments, and unique stadium conditions. These factors are believed to contribute to the advantages for home teams, potentially impacting the game’s outcome.\n",
    "\n",
    "  In a study done by Barry and Barsky<a name=\"cite_ref-1\"></a>[<sup>1</sup>](#cite_note-1), it is shown that home game advantage varies across different sports. Hockey and basketball shows the most significant differences, meaning that the home team has the most significant advantage. On the other hand, home teams of football games has a smaller advantage while home teams of baseball has the least advantage over the visiting team compared to other sports. Furthermore, in this study, the authors reached the conclusion that other factors, such as audience support, play a role in the effectiveness of home game advantages.\n",
    "\n",
    "  In another study done by Harville and Smith<a name=\"cite_ref-2\"></a>[<sup>2</sup>](#cite_note-2), the effects of home game advantages on college basketball teams were analyzed. The authors concluded that the estimated benefit of playing at home is about 4.68 points, and this advantage is approximately the same across different teams.\n",
    "\n",
    "  Other studies have shown the effects of home game advantages across different sports. For example, in the study done by Nevill et al.<a name=\"cite_ref-3\"></a>[<sup>3</sup>](#cite_note-3), major team sports are shown to be positively impacted by the home game advantage. In American football, of the 2592 games analyzed, the home winning percentage is 57.3%. On the other hand, in ice hockey, the home winning percentage is 59.5%. Soccer shows an even higher home winning rate of 63.9%.\n",
    "\n",
    "  In a blog post “Is there a home-game advantage in professional sport?”<a name=\"cite_ref-4\"></a>[<sup>4</sup>](#cite_note-4), written by Peter Hersh,  the home-game advantages of MLB (Major League Baseball), NBA (National Basketball Association), NFL (National Football League), and NHL (National Hockey League) over the past decade are analyzed. Based on the analysis, all 4 sports show an advantage when the games are played at home. Overall, MLB shows the smallest advantage compared to other sports. During the year of the pandemic, however, MLB shows the greatest home advantage compared to the other team sports.\n",
    "\n",
    "1. <a name=\"cite_note-1\"></a> [^](#cite_ref-1) Schwartz, Barry, and Stephen F. Barsky. “The Home Advantage.” Social Forces 55, no. 3 (1977): 641–61. https://www.jstor.org/stable/2577461\n",
    "\n",
    "2. <a name=\"cite_note-2\"></a> [^](#cite_ref-2) Harville, David A., and Michael H. Smith. “The Home-Court Advantage: How Large Is It, and Does It Vary from Team to Team?” The American Statistician 48, no. 1 (1994): 22–28. https://www.jstor.org/stable/2685080\n",
    "\n",
    "3. <a name=\"cite_note-3\"></a> [^](#cite_ref-3) Nevill, A.M., Holder, R.L. Home Advantage in Sport. Sports Med 28, 221–236 (1999). https://doi.org/10.2165/00007256-199928040-00001\n",
    "\n",
    "4. <a name=\"cite_note-4\"></a> [^](#cite_ref-4) Hersh P. Is there a home-game advantage in professional sports? (June, 2023).https://community.jmp.com/t5/JMP-Blog/Is-there-a-home-game-advantage-in-professional-sports/ba-p/641566"
   ]
  },
  {
   "cell_type": "markdown",
   "metadata": {
    "id": "I8AkxOnB1_27"
   },
   "source": [
    "# Hypothesis\n"
   ]
  },
  {
   "cell_type": "markdown",
   "metadata": {
    "id": "ZhnpmLAh1_27"
   },
   "source": [
    "\n",
    "- Include your team's hypothesis\n",
    "- Ensure that this hypothesis is clear to readers\n",
    "- Explain why you think this will be the outcome (what was your thinking?)\n",
    "\n",
    "What is your main hypothesis/predictions about what the answer to your question is? Briefly explain your thinking. (2-3 sentences)\n",
    "\n",
    " ### Hypothesis:\n",
    " After excluding the factors not related to the home-field advantage, we expect that MLB teams have a far larger winning rate when playing in their home stadium compared to away, with the magnitude of that home-field advantage varying between teams based on factors such as fan support, travel distance, and familiarity with playing conditions.\n",
    "\n",
    "\n",
    "### Explanations:\n",
    " We expect teams to be performing better at home because of the psychological benefits of fan support, less travel fatigue, and field conditions. Also, shorter travel times and no jet lag will help players to perform much better than when playing in a visiting game. This hypothesis is inspired by substantial evidence in sports psychology and player metrics indicating that home-field advantage is one of the main players in team performance."
   ]
  },
  {
   "cell_type": "markdown",
   "metadata": {
    "id": "YT2bmufe1_27"
   },
   "source": [
    "# Data"
   ]
  },
  {
   "cell_type": "markdown",
   "metadata": {
    "id": "Er72KL-A1_28"
   },
   "source": [
    "## Data overview\n",
    "\n",
    "For each dataset include the following information\n",
    "- Dataset #1\n",
    "  - Dataset Name:\n",
    "  - Link to the dataset:\n",
    "  - Number of observations:\n",
    "  - Number of variables:\n",
    "- Dataset #2 (if you have more than one!)\n",
    "  - Dataset Name:\n",
    "  - Link to the dataset:\n",
    "  - Number of observations:\n",
    "  - Number of variables:\n",
    "- etc\n",
    "\n",
    "Now write 2 - 5 sentences describing each dataset here. Include a short description of the important variables in the dataset; what the metrics and datatypes are, what concepts they may be proxies for. Include information about how you would need to wrangle/clean/preprocess the dataset\n",
    "\n",
    "If you plan to use multiple datasets, add a few sentences about how you plan to combine these datasets.\n",
    "\n",
    "### Injury Report Data:\n",
    "https://www.prosportstransactions.com/baseball/Search/SearchResults.php?Player=&Team=&BeginDate=2017-01-01&EndDate=2023-12-31&DLChkBx=yes&submit=Search\n",
    "(Xinheng, Chaowen)\n",
    "\n",
    "The MLB Injury Report dataset provides comprehensive injury tracking information across all Major League Baseball teams\n",
    "\n",
    "\n",
    "### Baseball Reference Game Logs:\n",
    "\n",
    "\n",
    "\n",
    "(Xinheng, Chaowen)\n",
    "Provides: Game results, scores, attendance, day/night status\n",
    "https://www.baseball-reference.com/leagues/majors/2023-schedule.shtml\n",
    "\n",
    "Frequency: Every MLB gamet\n",
    "\n",
    "### Ballpark Factors Database:\n",
    "(Takafumi)\n",
    "s\n",
    "Database: https://baseballsavant.mlb.com/leaderboard/statcast-park-factors?type=year&year=2024&batSide=&stat=index_wOBA&condition=All&rolling=&sort=3&si)tDir=desc\n",
    "\n",
    "Stadium dimensions, altitude, capacity Field conditions and ch\n",
    "\n",
    "\n",
    "### Win/loss Data:\n",
    "\n",
    "\n",
    "(Alex,Athena)\n",
    "Game-level statistics including:\n",
    "\n",
    "Win/loss outcomes, Game location,times, and weather\n",
    "https://www.retrosheet.org/boxesetc/index.htmln,times, and weather"
   ]
  },
  {
   "cell_type": "markdown",
   "metadata": {},
   "source": [
    "(Athena)"
   ]
  },
  {
   "cell_type": "code",
   "execution_count": 6,
   "metadata": {},
   "outputs": [],
   "source": []
  },
  {
   "cell_type": "code",
   "execution_count": 12,
   "metadata": {},
   "outputs": [],
   "source": [
    "# information on how to read txt files\n",
    "# https://www.w3schools.com/python/python_file_open.asp\n",
    "\n",
    "# information on how to create a dictionary from the text files\n",
    "# https://www.geeksforgeeks.org/how-to-create-a-python-dictionary-from-text-file/\n",
    "\n",
    "#initialize empty dictionaries\n",
    "data_2017 = {}\n",
    "data_2018 = {}\n",
    "data_2019 = {}\n",
    "data_2021 = {}\n",
    "data_2022 = {}\n",
    "data_2023 = {}\n",
    "\n",
    "# strip the data and add to the corresponding dictionary\n",
    "with open(\"data/2017_results.txt\", 'r') as file:\n",
    "    # iterate through each line and split key-value pairs\n",
    "    for line in file:\n",
    "        key, value = line.strip().split(',', 1) #splits after the first comma\n",
    "        #print(value)\n",
    "        # Store the key-value pair in the dictionary\n",
    "        if key in data_2017:\n",
    "            # If key already exists, append the new value to a list\n",
    "            data_2017[key].append(value)\n",
    "        else:\n",
    "            # If key is not already in the dictionary, create a new entry with a list\n",
    "            data_2017[key] = [value]\n",
    "\n",
    "\n",
    "with open(\"data/2018_results.txt\", 'r') as file:\n",
    "    # iterate through each line and split key-value pairs\n",
    "    for line in file:\n",
    "        key, value = line.strip().split(',', 1) #splits after the first comma\n",
    "        #print(value)\n",
    "        # Store the key-value pair in the dictionary\n",
    "        if key in data_2018:\n",
    "            # If key already exists, append the new value to a list\n",
    "            data_2018[key].append(value)\n",
    "        else:\n",
    "            # If key is not already in the dictionary, create a new entry with a list\n",
    "            data_2018[key] = [value]\n",
    "\n",
    "with open(\"data/2019_results.txt\", 'r') as file:\n",
    "    # iterate through each line and split key-value pairs\n",
    "    for line in file:\n",
    "        key, value = line.strip().split(',', 1) #splits after the first comma\n",
    "        #print(value)\n",
    "        # Store the key-value pair in the dictionary\n",
    "        if key in data_2019:\n",
    "            # If key already exists, append the new value to a list\n",
    "            data_2019[key].append(value)\n",
    "        else:\n",
    "            # If key is not already in the dictionary, create a new entry with a list\n",
    "            data_2019[key] = [value]\n",
    "\n",
    "with open(\"data/2021_results.txt\", 'r') as file:\n",
    "    # iterate through each line and split key-value pairs\n",
    "    for line in file:\n",
    "        key, value = line.strip().split(',', 1) #splits after the first comma\n",
    "        #print(value)\n",
    "        # Store the key-value pair in the dictionary\n",
    "        if key in data_2021:\n",
    "            # If key already exists, append the new value to a list\n",
    "            data_2021[key].append(value)\n",
    "        else:\n",
    "            # If key is not already in the dictionary, create a new entry with a list\n",
    "            data_2021[key] = [value]\n",
    "\n",
    "with open(\"data/2022_results.txt\", 'r') as file:\n",
    "    # iterate through each line and split key-value pairs\n",
    "    for line in file:\n",
    "        key, value = line.strip().split(',', 1) #splits after the first comma\n",
    "        #print(value)\n",
    "        # Store the key-value pair in the dictionary\n",
    "        if key in data_2022:\n",
    "            # If key already exists, append the new value to a list\n",
    "            data_2022[key].append(value)\n",
    "        else:\n",
    "            # If key is not already in the dictionary, create a new entry with a list\n",
    "            data_2022[key] = [value]\n",
    "\n",
    "with open(\"data/2023_results.txt\", 'r') as file:\n",
    "    # iterate through each line and split key-value pairs\n",
    "    for line in file:\n",
    "        key, value = line.strip().split(',', 1) #splits after the first comma\n",
    "        #print(value)\n",
    "        # Store the key-value pair in the dictionary\n",
    "        if key in data_2023:\n",
    "            # If key already exists, append the new value to a list\n",
    "            data_2023[key].append(value)\n",
    "        else:\n",
    "            # If key is not already in the dictionary, create a new entry with a list\n",
    "            data_2023[key] = [value]"
   ]
  },
  {
   "cell_type": "code",
   "execution_count": 13,
   "metadata": {},
   "outputs": [
    {
     "name": "stdout",
     "output_type": "stream",
     "text": [
      "     Temperature Windspeed  Visiting Team Score  Home Team Score\n",
      "0             65         7                    1                5\n",
      "1             63         9                    4                5\n",
      "2             66         7                    9               10\n",
      "3             69         7                    5                6\n",
      "4             67         4                    8                3\n",
      "...          ...       ...                  ...              ...\n",
      "1210          71         5                   15                5\n",
      "1211          74         7                    1                0\n",
      "1212          74         3                    1                8\n",
      "1213          81         5                    5                1\n",
      "1214          80         6                    5                9\n",
      "\n",
      "[1215 rows x 4 columns]\n"
     ]
    }
   ],
   "source": [
    "# analyze data of 2017\n",
    "temp_data = [] \n",
    "windspeed_data = []\n",
    "all_visiting_score = [] #stores the score of all visiting teams (i.e. scores throughout the year)\n",
    "all_home_score = []\n",
    "for entry in data_2017[\"info\"]:\n",
    "    if entry.startswith('temp,'):\n",
    "        temp_value = entry.split(',')[1] #get the value behind ,\n",
    "        #print(temp_value)\n",
    "        temp_data.append(temp_value)\n",
    "    if entry.startswith('windspeed'):\n",
    "        windspeed_value = entry.split(',')[1]\n",
    "        #print(windspeed_value)\n",
    "        windspeed_data.append(windspeed_value)\n",
    "for entry in data_2017['line']:\n",
    "    if entry[0] == '0': #data for visiting team\n",
    "        visiting_score = 0\n",
    "        visiting_score_list = entry[2:] # start from 2 because the 0th element indicates whether it is a visiting team or a home team and the 1st element is a comma\n",
    "        visiting_score_list = visiting_score_list.split(\",\") # creates a list of strings of scores\n",
    "        for i in visiting_score_list:\n",
    "            visiting_score += int(i) # convert each string score to int and sum up to generate total score\n",
    "        all_visiting_score.append(visiting_score)\n",
    "    else: #data for home team\n",
    "        home_score = 0\n",
    "        home_score_list = entry[2:]\n",
    "        home_score_list = home_score_list.split(\",\")\n",
    "        for i in home_score_list:\n",
    "            home_score += int(i)\n",
    "        #print(home_score)\n",
    "        all_home_score.append(home_score)\n",
    "\n",
    "df = pd.DataFrame({\n",
    "    'Temperature': temp_data,\n",
    "    'Windspeed': windspeed_data,\n",
    "    'Visiting Team Score': all_visiting_score,\n",
    "    'Home Team Score': all_home_score\n",
    "})\n",
    "\n",
    "print(df)"
   ]
  },
  {
   "cell_type": "code",
   "execution_count": 14,
   "metadata": {},
   "outputs": [
    {
     "name": "stdout",
     "output_type": "stream",
     "text": [
      "     Temperature Windspeed  Visiting Team Score  Home Team Score\n",
      "0             62         7                    6                0\n",
      "1             65         4                    2               13\n",
      "2             65         6                    2                3\n",
      "3             65         4                    9               13\n",
      "4             67         8                    7                3\n",
      "...          ...       ...                  ...              ...\n",
      "1210          59         6                    2                5\n",
      "1211          63         7                    5                2\n",
      "1212          68         0                    5                3\n",
      "1213          68         0                    4                1\n",
      "1214          66        16                    1                3\n",
      "\n",
      "[1215 rows x 4 columns]\n"
     ]
    }
   ],
   "source": [
    "# analyze data of 2018\n",
    "temp_data = [] \n",
    "windspeed_data = []\n",
    "all_visiting_score = [] #stores the score of all visiting teams (i.e. scores throughout the year)\n",
    "all_home_score = []\n",
    "for entry in data_2018[\"info\"]:\n",
    "    if entry.startswith('temp,'):\n",
    "        temp_value = entry.split(',')[1] #get the value behind ,\n",
    "        #print(temp_value)\n",
    "        temp_data.append(temp_value)\n",
    "    if entry.startswith('windspeed'):\n",
    "        windspeed_value = entry.split(',')[1]\n",
    "        #print(windspeed_value)\n",
    "        windspeed_data.append(windspeed_value)\n",
    "for entry in data_2018['line']:\n",
    "    if entry[0] == '0': #data for visiting team\n",
    "        visiting_score = 0\n",
    "        visiting_score_list = entry[2:] # start from 2 because the 0th element indicates whether it is a visiting team or a home team and the 1st element is a comma\n",
    "        visiting_score_list = visiting_score_list.split(\",\") # creates a list of strings of scores\n",
    "        for i in visiting_score_list:\n",
    "            visiting_score += int(i) # convert each string score to int and sum up to generate total score\n",
    "        all_visiting_score.append(visiting_score)\n",
    "    else: #data for home team\n",
    "        home_score = 0\n",
    "        home_score_list = entry[2:]\n",
    "        home_score_list = home_score_list.split(\",\")\n",
    "        for i in home_score_list:\n",
    "            home_score += int(i)\n",
    "        #print(home_score)\n",
    "        all_home_score.append(home_score)\n",
    "\n",
    "df = pd.DataFrame({\n",
    "    'Temperature': temp_data,\n",
    "    'Windspeed': windspeed_data,\n",
    "    'Visiting Team Score': all_visiting_score,\n",
    "    'Home Team Score': all_home_score\n",
    "})\n",
    "\n",
    "print(df)"
   ]
  },
  {
   "cell_type": "code",
   "execution_count": 15,
   "metadata": {},
   "outputs": [
    {
     "name": "stdout",
     "output_type": "stream",
     "text": [
      "     Temperature Windspeed  Visiting Team Score  Home Team Score\n",
      "0             61         6                   11                4\n",
      "1             63         8                    1                3\n",
      "2             68         8                    1                5\n",
      "3             75         6                    2                7\n",
      "4             77         7                    2                5\n",
      "...          ...       ...                  ...              ...\n",
      "1209          68         5                   11                4\n",
      "1210          72        16                    2                3\n",
      "1211          68         0                    6                2\n",
      "1212          64         7                    1                4\n",
      "1213          57        16                    3                8\n",
      "\n",
      "[1214 rows x 4 columns]\n"
     ]
    }
   ],
   "source": [
    "# analyze data of 2019\n",
    "temp_data = [] \n",
    "windspeed_data = []\n",
    "all_visiting_score = [] #stores the score of all visiting teams (i.e. scores throughout the year)\n",
    "all_home_score = []\n",
    "for entry in data_2019[\"info\"]:\n",
    "    if entry.startswith('temp,'):\n",
    "        temp_value = entry.split(',')[1] #get the value behind ,\n",
    "        #print(temp_value)\n",
    "        temp_data.append(temp_value)\n",
    "    if entry.startswith('windspeed'):\n",
    "        windspeed_value = entry.split(',')[1]\n",
    "        #print(windspeed_value)\n",
    "        windspeed_data.append(windspeed_value)\n",
    "for entry in data_2019['line']:\n",
    "    if entry[0] == '0': #data for visiting team\n",
    "        visiting_score = 0\n",
    "        visiting_score_list = entry[2:] # start from 2 because the 0th element indicates whether it is a visiting team or a home team and the 1st element is a comma\n",
    "        visiting_score_list = visiting_score_list.split(\",\") # creates a list of strings of scores\n",
    "        for i in visiting_score_list:\n",
    "            visiting_score += int(i) # convert each string score to int and sum up to generate total score\n",
    "        all_visiting_score.append(visiting_score)\n",
    "    else: #data for home team\n",
    "        home_score = 0\n",
    "        home_score_list = entry[2:]\n",
    "        home_score_list = home_score_list.split(\",\")\n",
    "        for i in home_score_list:\n",
    "            home_score += int(i)\n",
    "        #print(home_score)\n",
    "        all_home_score.append(home_score)\n",
    "\n",
    "df = pd.DataFrame({\n",
    "    'Temperature': temp_data,\n",
    "    'Windspeed': windspeed_data,\n",
    "    'Visiting Team Score': all_visiting_score,\n",
    "    'Home Team Score': all_home_score\n",
    "})\n",
    "\n",
    "print(df)"
   ]
  },
  {
   "cell_type": "code",
   "execution_count": 16,
   "metadata": {},
   "outputs": [
    {
     "name": "stdout",
     "output_type": "stream",
     "text": [
      "     Temperature Windspeed  Visiting Team Score  Home Team Score\n",
      "0             93         6                    3                1\n",
      "1             93        10                   13                6\n",
      "2             72        12                    0                2\n",
      "3             70         7                    4                1\n",
      "4             65         9                    2                6\n",
      "...          ...       ...                  ...              ...\n",
      "1210          68         0                    5                2\n",
      "1211          68         0                    8                3\n",
      "1212          68         0                    0                9\n",
      "1213          63         8                    0               10\n",
      "1214          68         0                    3                6\n",
      "\n",
      "[1215 rows x 4 columns]\n"
     ]
    }
   ],
   "source": [
    "# analyze data of 2022\n",
    "temp_data = [] \n",
    "windspeed_data = []\n",
    "all_visiting_score = [] #stores the score of all visiting teams (i.e. scores throughout the year)\n",
    "all_home_score = []\n",
    "for entry in data_2022[\"info\"]:\n",
    "    if entry.startswith('temp,'):\n",
    "        temp_value = entry.split(',')[1] #get the value behind ,\n",
    "        #print(temp_value)\n",
    "        temp_data.append(temp_value)\n",
    "    if entry.startswith('windspeed'):\n",
    "        windspeed_value = entry.split(',')[1]\n",
    "        #print(windspeed_value)\n",
    "        windspeed_data.append(windspeed_value)\n",
    "for entry in data_2022['line']:\n",
    "    if entry[0] == '0': #data for visiting team\n",
    "        visiting_score = 0\n",
    "        visiting_score_list = entry[2:] # start from 2 because the 0th element indicates whether it is a visiting team or a home team and the 1st element is a comma\n",
    "        visiting_score_list = visiting_score_list.split(\",\") # creates a list of strings of scores\n",
    "        for i in visiting_score_list:\n",
    "            visiting_score += int(i) # convert each string score to int and sum up to generate total score\n",
    "        all_visiting_score.append(visiting_score)\n",
    "    else: #data for home team\n",
    "        home_score = 0\n",
    "        home_score_list = entry[2:]\n",
    "        home_score_list = home_score_list.split(\",\")\n",
    "        for i in home_score_list:\n",
    "            home_score += int(i)\n",
    "        #print(home_score)\n",
    "        all_home_score.append(home_score)\n",
    "\n",
    "df = pd.DataFrame({\n",
    "    'Temperature': temp_data,\n",
    "    'Windspeed': windspeed_data,\n",
    "    'Visiting Team Score': all_visiting_score,\n",
    "    'Home Team Score': all_home_score\n",
    "})\n",
    "\n",
    "print(df)"
   ]
  },
  {
   "cell_type": "code",
   "execution_count": 17,
   "metadata": {},
   "outputs": [
    {
     "name": "stdout",
     "output_type": "stream",
     "text": [
      "     Temperature Windspeed  Visiting Team Score  Home Team Score\n",
      "0             64         6                    4                3\n",
      "1             63         8                    5                9\n",
      "2             72         5                   12               11\n",
      "3             66         6                    6                4\n",
      "4             63         8                    0                2\n",
      "...          ...       ...                  ...              ...\n",
      "1210          68         0                    6                0\n",
      "1211          63        16                    0                6\n",
      "1212          64         8                    4               11\n",
      "1213          68         7                    7                5\n",
      "1214          79         6                   12                8\n",
      "\n",
      "[1215 rows x 4 columns]\n"
     ]
    }
   ],
   "source": [
    "# analyze data of 2023\n",
    "temp_data = [] \n",
    "windspeed_data = []\n",
    "all_visiting_score = [] #stores the score of all visiting teams (i.e. scores throughout the year)\n",
    "all_home_score = []\n",
    "for entry in data_2023[\"info\"]:\n",
    "    if entry.startswith('temp,'):\n",
    "        temp_value = entry.split(',')[1] #get the value behind ,\n",
    "        #print(temp_value)\n",
    "        temp_data.append(temp_value)\n",
    "    if entry.startswith('windspeed'):\n",
    "        windspeed_value = entry.split(',')[1]\n",
    "        #print(windspeed_value)\n",
    "        windspeed_data.append(windspeed_value)\n",
    "for entry in data_2023['line']:\n",
    "    if entry[0] == '0': #data for visiting team\n",
    "        visiting_score = 0\n",
    "        visiting_score_list = entry[2:] # start from 2 because the 0th element indicates whether it is a visiting team or a home team and the 1st element is a comma\n",
    "        visiting_score_list = visiting_score_list.split(\",\") # creates a list of strings of scores\n",
    "        for i in visiting_score_list:\n",
    "            visiting_score += int(i) # convert each string score to int and sum up to generate total score\n",
    "        all_visiting_score.append(visiting_score)\n",
    "    else: #data for home team\n",
    "        home_score = 0\n",
    "        home_score_list = entry[2:]\n",
    "        home_score_list = home_score_list.split(\",\")\n",
    "        for i in home_score_list:\n",
    "            home_score += int(i)\n",
    "        #print(home_score)\n",
    "        all_home_score.append(home_score)\n",
    "\n",
    "df = pd.DataFrame({\n",
    "    'Temperature': temp_data,\n",
    "    'Windspeed': windspeed_data,\n",
    "    'Visiting Team Score': all_visiting_score,\n",
    "    'Home Team Score': all_home_score\n",
    "})\n",
    "\n",
    "print(df)"
   ]
  },
  {
   "cell_type": "code",
   "execution_count": 18,
   "metadata": {},
   "outputs": [
    {
     "name": "stdout",
     "output_type": "stream",
     "text": [
      "     Temperature Windspeed  Visiting Team Score  Home Team Score\n",
      "0             81         6                    3                4\n",
      "1             66        10                   12                8\n",
      "2             71        10                    3                5\n",
      "3             72        13                    4                7\n",
      "4             65        10                    6                7\n",
      "...          ...       ...                  ...              ...\n",
      "1210          64        13                    5                6\n",
      "1211          58         6                    6                2\n",
      "1212          62         3                    4                6\n",
      "1213          73        13                    1               10\n",
      "1214          68         0                    4               12\n",
      "\n",
      "[1215 rows x 4 columns]\n"
     ]
    }
   ],
   "source": [
    "# analyze data of 2021\n",
    "temp_data = [] \n",
    "windspeed_data = []\n",
    "all_visiting_score = [] #stores the score of all visiting teams (i.e. scores throughout the year)\n",
    "all_home_score = []\n",
    "for entry in data_2021[\"info\"]:\n",
    "    if entry.startswith('temp,'):\n",
    "        temp_value = entry.split(',')[1] #get the value behind ,\n",
    "        #print(temp_value)\n",
    "        temp_data.append(temp_value)\n",
    "    if entry.startswith('windspeed'):\n",
    "        windspeed_value = entry.split(',')[1]\n",
    "        #print(windspeed_value)\n",
    "        windspeed_data.append(windspeed_value)\n",
    "for entry in data_2021['line']:\n",
    "    if entry[0] == '0': #data for visiting team\n",
    "        visiting_score = 0\n",
    "        visiting_score_list = entry[2:] # start from 2 because the 0th element indicates whether it is a visiting team or a home team and the 1st element is a comma\n",
    "        visiting_score_list = visiting_score_list.split(\",\") # creates a list of strings of scores\n",
    "        for i in visiting_score_list:\n",
    "            visiting_score += int(i) # convert each string score to int and sum up to generate total score\n",
    "        all_visiting_score.append(visiting_score)\n",
    "    else: #data for home team\n",
    "        home_score = 0\n",
    "        home_score_list = entry[2:]\n",
    "        home_score_list = home_score_list.split(\",\")\n",
    "        for i in home_score_list:\n",
    "            home_score += int(i)\n",
    "        #print(home_score)\n",
    "        all_home_score.append(home_score)\n",
    "\n",
    "df = pd.DataFrame({\n",
    "    'Temperature': temp_data,\n",
    "    'Windspeed': windspeed_data,\n",
    "    'Visiting Team Score': all_visiting_score,\n",
    "    'Home Team Score': all_home_score\n",
    "})\n",
    "\n",
    "print(df)"
   ]
  },
  {
   "cell_type": "code",
   "execution_count": 1,
   "metadata": {
    "id": "aaGnUpOc1_28"
   },
   "outputs": [],
   "source": [
    "from bs4 import BeautifulSoup\n",
    "import pandas as pd"
   ]
  },
  {
   "cell_type": "markdown",
   "metadata": {
    "id": "VkOVBMXL1_29"
   },
   "source": [
    "## Injury Report Data  and Baseball Reference Game Logs(Xinheng,Chaowen)\n"
   ]
  },
  {
   "cell_type": "code",
   "execution_count": 8,
   "metadata": {
    "id": "9sFuh9SY1_29"
   },
   "outputs": [],
   "source": [
    "## YOUR CODE TO LOAD/CLEAN/TIDY/WRANGLE THE DATA GOES HERE\n",
    "## FEEL FREE TO ADD MULTIPLE CELLS PER SECTION\n",
    "injury_report = pd.read_csv('/Injury_report.csv')\n",
    "game_log_2017 = pd.read_csv('/2017 - Gamelog.csv')\n",
    "game_log_2018 = pd.read_csv('/2018 - Gamelog.csv')\n",
    "game_log_2019 = pd.read_csv('/2019 - Gamelog.csv')\n",
    "game_log_2021 = pd.read_csv('/2021 - Gamelog.csv')\n",
    "game_log_2022 = pd.read_csv('/2022 - Gamelog.csv')\n",
    "game_log_2023 = pd.read_csv('/2023 - Gamelog.csv')"
   ]
  },
  {
   "cell_type": "code",
   "execution_count": 9,
   "metadata": {
    "id": "dvM3MmeS1_29"
   },
   "outputs": [],
   "source": [
    "injury_report_cleaned = injury_report.copy()\n",
    "\n",
    "injury_report_cleaned.dropna(subset=['Date', 'Team'], inplace=True)\n",
    "\n",
    "injury_report_cleaned = injury_report_cleaned.fillna({'Acquired': 'Unknown', 'Relinquished': 'Unknown'})\n",
    "\n",
    "injury_report_cleaned['Injury Type'] = injury_report_cleaned['Notes'].str.extract(r'with (.*?)(?:\\srecovering|\\.|$)')\n",
    "\n",
    "game_logs_cleaned = []\n",
    "\n",
    "for game_log in [game_log_2017, game_log_2018, game_log_2019, game_log_2021, game_log_2022, game_log_2023]:\n",
    "    game_log_cleaned = game_log.copy()\n",
    "\n",
    "    columns_with_urls = ['Date', 'Opp', 'Win', 'Loss', 'Save', 'Unnamed: 2']\n",
    "    for col in columns_with_urls:\n",
    "        if col in game_log_cleaned.columns:\n",
    "            game_log_cleaned[col] = game_log_cleaned[col].str.replace(r'\\(.*?\\)', '', regex=True).str.strip()\n",
    "\n",
    "    game_log_cleaned = game_log_cleaned.fillna({'W/L': 'Unknown', 'R': 0, 'RA': 0, 'Attendance': 0})\n",
    "\n",
    "    game_logs_cleaned.append(game_log_cleaned)\n",
    "\n",
    "combined_game_logs = pd.concat(game_logs_cleaned, ignore_index=True)"
   ]
  },
  {
   "cell_type": "code",
   "execution_count": 10,
   "metadata": {
    "colab": {
     "base_uri": "https://localhost:8080/"
    },
    "id": "mR_CzalX1_29",
    "outputId": "a06e2794-1b80-480e-f664-35f49d768971"
   },
   "outputs": [
    {
     "name": "stdout",
     "output_type": "stream",
     "text": [
      "Cleaned Injury Report Dataset:\n",
      "         Date       Team Acquired      Relinquished  \\\n",
      "0  2017-02-14     Braves  Unknown  • Jacob Lindgren   \n",
      "1  2017-02-14  Nationals  Unknown   • Aaron Barrett   \n",
      "2  2017-02-14    Rangers  Unknown    • Jake Diekman   \n",
      "3  2017-02-14    Rangers  Unknown  • Prince Fielder   \n",
      "4  2017-02-14       Reds  Unknown    • Homer Bailey   \n",
      "\n",
      "                                               Notes              Injury Type  \n",
      "0  placed on 60-day DL recovering from ligament r...                      NaN  \n",
      "1  placed on 60-day DL recovering from ligament r...                      NaN  \n",
      "2  placed on 60-day DL recovering from surgery to...                      NaN  \n",
      "3   placed on 60-day DL with herniated discs in neck  herniated discs in neck  \n",
      "4  transferred to 60-day DL recovering from ligam...                      NaN  \n",
      "\n",
      "Combined Game Logs Dataset (2017-2023):\n",
      "  Gm#              Date Unnamed: 2   Tm Unnamed: 4  Opp   W/L  R RA  Inn  ...  \\\n",
      "0   1     Sunday, Apr 2   boxscore  ARI        NaN  SFG  W-wo  6  5  NaN  ...   \n",
      "1   2    Tuesday, Apr 4   boxscore  ARI        NaN  SFG     L  4  8  NaN  ...   \n",
      "2   3  Wednesday, Apr 5   boxscore  ARI        NaN  SFG     W  8  6  NaN  ...   \n",
      "3   4   Thursday, Apr 6   boxscore  ARI        NaN  SFG     W  9  3  NaN  ...   \n",
      "4   5     Friday, Apr 7   boxscore  ARI        NaN  CLE     W  7  3  NaN  ...   \n",
      "\n",
      "       GB         Win        Loss    Save  Time D/N Attendance   cLI Streak  \\\n",
      "0  up 0.5      Rodney    Melancon     NaN  3:23   D     49,016  1.06      +   \n",
      "1       1       Cueto      Corbin     NaN  3:26   N     19,378  1.12      -   \n",
      "2    Tied      Walker       Moore  Rodney  3:15   N     14,675  1.03      +   \n",
      "3    Tied  De La Rosa  Samardzija     NaN  3:00   N     15,308   1.1     ++   \n",
      "4    Tied      Miller      Tomlin     NaN  3:19   N     22,443     1    +++   \n",
      "\n",
      "  Orig. Scheduled  \n",
      "0             NaN  \n",
      "1             NaN  \n",
      "2             NaN  \n",
      "3             NaN  \n",
      "4             NaN  \n",
      "\n",
      "[5 rows x 22 columns]\n"
     ]
    }
   ],
   "source": [
    "print(\"Cleaned Injury Report Dataset:\")\n",
    "print(injury_report_cleaned.head())\n",
    "print(\"\\nCombined Game Logs Dataset (2017-2023):\")\n",
    "print(combined_game_logs.head())"
   ]
  },
  {
   "cell_type": "markdown",
   "metadata": {
    "id": "Qk7kty571_29"
   },
   "source": [
    "## Ballpark Factors"
   ]
  },
  {
   "cell_type": "markdown",
   "metadata": {
    "id": "bFiqXNhL1_29"
   },
   "source": [
    "Ballpark factors are data provided by Google Cloud which show the biasness of the ballpark. Google Cloud explains, \"Statcast park effects show the observed effect of each displayed stat based on the events in the selected park. Each number is set so that “100” is average for that metric, and the park-specific number is generated by looking at each batter and pitcher, controlled by handedness, and comparing the frequency of that metric in the selected park compared to the performance of those players in other parks.\n",
    "For example, the 135 HR mark for 2018-2020 at Great American Ball Park does not mean the Reds hit 35% more home runs at their home park. It means for batters and pitchers who played both at GABP and elsewhere, 35% more home runs were observed at GABP.\""
   ]
  },
  {
   "cell_type": "code",
   "execution_count": null,
   "metadata": {
    "id": "kMYUw7fu1_29"
   },
   "outputs": [],
   "source": [
    "rawdata_dic = {}\n",
    "for year in ['2017-2019','2021-2023']:\n",
    "    for dn in ['day','night']:\n",
    "        data_name = f\"park_factor_{year}_{dn}\"\n",
    "        with open(f\"data/park_factor_{year}_{dn}.html\",\"r\") as f:\n",
    "            rawdata_dic[data_name] = f.read()"
   ]
  },
  {
   "cell_type": "code",
   "execution_count": null,
   "metadata": {
    "id": "Fbx9uHd71_29"
   },
   "outputs": [],
   "source": [
    "column_list = []\n",
    "row_dict = {}\n",
    "for key,value in rawdata_dic.items():\n",
    "    soup = BeautifulSoup(value, \"html.parser\")\n",
    "    columns = soup.find(class_ = \"tr-component-row\")\n",
    "    columns = columns.find_all('th')\n",
    "    for column in columns:\n",
    "        column_list.append(column.get_text(strip=True))\n",
    "    rows = soup.find_all(class_ = 'default-table-row')\n",
    "    row_list = []\n",
    "    for row in rows:\n",
    "        lst = []\n",
    "        data = row.find_all('td')\n",
    "        for datum in data:\n",
    "            lst.append(datum.get_text(strip=True))\n",
    "        row_list.append(lst)\n",
    "    row_dict[key] = row_list"
   ]
  },
  {
   "cell_type": "code",
   "execution_count": null,
   "metadata": {
    "id": "AZ-0TT821_2-"
   },
   "outputs": [],
   "source": [
    "column_list = list(dict.fromkeys(column_list))"
   ]
  },
  {
   "cell_type": "code",
   "execution_count": null,
   "metadata": {
    "id": "rsMK3Ohu1_2-"
   },
   "outputs": [],
   "source": [
    "df_dict = {}\n",
    "for key,value in row_dict.items():\n",
    "    df_dict[key] = pd.DataFrame(columns = column_list, data= value)"
   ]
  },
  {
   "cell_type": "code",
   "execution_count": null,
   "metadata": {
    "id": "SOVPvoFH1_2-",
    "outputId": "056d719a-8d59-457e-cb74-65593bf365f4"
   },
   "outputs": [
    {
     "data": {
      "text/plain": [
       "dict_keys(['park_factor_2017-2019_day', 'park_factor_2017-2019_night', 'park_factor_2021-2023_day', 'park_factor_2021-2023_night'])"
      ]
     },
     "execution_count": 46,
     "metadata": {},
     "output_type": "execute_result"
    }
   ],
   "source": [
    "df_dict.keys()"
   ]
  },
  {
   "cell_type": "code",
   "execution_count": null,
   "metadata": {
    "id": "VCd06Md11_2-"
   },
   "outputs": [],
   "source": [
    "park_factor_2017_2019_day = df_dict['park_factor_2017-2019_day']\n",
    "park_factor_2017_2019_night = df_dict['park_factor_2017-2019_night']\n",
    "park_factor_2021_2023_day = df_dict['park_factor_2021-2023_day']\n",
    "park_factor_2021_2023_night = df_dict['park_factor_2021-2023_night']"
   ]
  },
  {
   "cell_type": "markdown",
   "metadata": {
    "id": "Rq1JGAm_1_2_"
   },
   "source": [
    "## Dataset #3 (use name instead of number here) (Alex)\n"
   ]
  },
  {
   "cell_type": "code",
   "execution_count": null,
   "metadata": {
    "id": "2v18a72O1_2_",
    "outputId": "8cc875bb-8cf3-44f7-c4fb-c537c97c9397"
   },
   "outputs": [
    {
     "data": {
      "text/html": [
       "<div>\n",
       "<style scoped>\n",
       "    .dataframe tbody tr th:only-of-type {\n",
       "        vertical-align: middle;\n",
       "    }\n",
       "\n",
       "    .dataframe tbody tr th {\n",
       "        vertical-align: top;\n",
       "    }\n",
       "\n",
       "    .dataframe thead th {\n",
       "        text-align: right;\n",
       "    }\n",
       "</style>\n",
       "<table border=\"1\" class=\"dataframe\">\n",
       "  <thead>\n",
       "    <tr style=\"text-align: right;\">\n",
       "      <th></th>\n",
       "      <th>gid</th>\n",
       "      <th>visteam</th>\n",
       "      <th>hometeam</th>\n",
       "      <th>site</th>\n",
       "      <th>date</th>\n",
       "      <th>number</th>\n",
       "      <th>starttime</th>\n",
       "      <th>daynight</th>\n",
       "      <th>innings</th>\n",
       "      <th>tiebreaker</th>\n",
       "      <th>...</th>\n",
       "      <th>vruns</th>\n",
       "      <th>hruns</th>\n",
       "      <th>wteam</th>\n",
       "      <th>lteam</th>\n",
       "      <th>line</th>\n",
       "      <th>batteries</th>\n",
       "      <th>lineups</th>\n",
       "      <th>box</th>\n",
       "      <th>pbp</th>\n",
       "      <th>season</th>\n",
       "    </tr>\n",
       "  </thead>\n",
       "  <tbody>\n",
       "    <tr>\n",
       "      <th>0</th>\n",
       "      <td>ARI201704020</td>\n",
       "      <td>SFN</td>\n",
       "      <td>ARI</td>\n",
       "      <td>PHO01</td>\n",
       "      <td>20170402</td>\n",
       "      <td>0</td>\n",
       "      <td>1:10 PM</td>\n",
       "      <td>day</td>\n",
       "      <td>NaN</td>\n",
       "      <td>NaN</td>\n",
       "      <td>...</td>\n",
       "      <td>5</td>\n",
       "      <td>6</td>\n",
       "      <td>ARI</td>\n",
       "      <td>SFN</td>\n",
       "      <td>y</td>\n",
       "      <td>both</td>\n",
       "      <td>y</td>\n",
       "      <td>y</td>\n",
       "      <td>y</td>\n",
       "      <td>2017</td>\n",
       "    </tr>\n",
       "    <tr>\n",
       "      <th>1</th>\n",
       "      <td>SLN201704020</td>\n",
       "      <td>CHN</td>\n",
       "      <td>SLN</td>\n",
       "      <td>STL10</td>\n",
       "      <td>20170402</td>\n",
       "      <td>0</td>\n",
       "      <td>7:38 PM</td>\n",
       "      <td>night</td>\n",
       "      <td>NaN</td>\n",
       "      <td>NaN</td>\n",
       "      <td>...</td>\n",
       "      <td>3</td>\n",
       "      <td>4</td>\n",
       "      <td>SLN</td>\n",
       "      <td>CHN</td>\n",
       "      <td>y</td>\n",
       "      <td>both</td>\n",
       "      <td>y</td>\n",
       "      <td>y</td>\n",
       "      <td>y</td>\n",
       "      <td>2017</td>\n",
       "    </tr>\n",
       "    <tr>\n",
       "      <th>2</th>\n",
       "      <td>TBA201704020</td>\n",
       "      <td>NYA</td>\n",
       "      <td>TBA</td>\n",
       "      <td>STP01</td>\n",
       "      <td>20170402</td>\n",
       "      <td>0</td>\n",
       "      <td>1:12 PM</td>\n",
       "      <td>day</td>\n",
       "      <td>NaN</td>\n",
       "      <td>NaN</td>\n",
       "      <td>...</td>\n",
       "      <td>3</td>\n",
       "      <td>7</td>\n",
       "      <td>TBA</td>\n",
       "      <td>NYA</td>\n",
       "      <td>y</td>\n",
       "      <td>both</td>\n",
       "      <td>y</td>\n",
       "      <td>y</td>\n",
       "      <td>y</td>\n",
       "      <td>2017</td>\n",
       "    </tr>\n",
       "    <tr>\n",
       "      <th>3</th>\n",
       "      <td>BAL201704030</td>\n",
       "      <td>TOR</td>\n",
       "      <td>BAL</td>\n",
       "      <td>BAL12</td>\n",
       "      <td>20170403</td>\n",
       "      <td>0</td>\n",
       "      <td>3:09 PM</td>\n",
       "      <td>day</td>\n",
       "      <td>NaN</td>\n",
       "      <td>NaN</td>\n",
       "      <td>...</td>\n",
       "      <td>2</td>\n",
       "      <td>3</td>\n",
       "      <td>BAL</td>\n",
       "      <td>TOR</td>\n",
       "      <td>y</td>\n",
       "      <td>both</td>\n",
       "      <td>y</td>\n",
       "      <td>y</td>\n",
       "      <td>y</td>\n",
       "      <td>2017</td>\n",
       "    </tr>\n",
       "    <tr>\n",
       "      <th>4</th>\n",
       "      <td>BOS201704030</td>\n",
       "      <td>PIT</td>\n",
       "      <td>BOS</td>\n",
       "      <td>BOS07</td>\n",
       "      <td>20170403</td>\n",
       "      <td>0</td>\n",
       "      <td>2:06 PM</td>\n",
       "      <td>day</td>\n",
       "      <td>NaN</td>\n",
       "      <td>NaN</td>\n",
       "      <td>...</td>\n",
       "      <td>3</td>\n",
       "      <td>5</td>\n",
       "      <td>BOS</td>\n",
       "      <td>PIT</td>\n",
       "      <td>y</td>\n",
       "      <td>both</td>\n",
       "      <td>y</td>\n",
       "      <td>y</td>\n",
       "      <td>y</td>\n",
       "      <td>2017</td>\n",
       "    </tr>\n",
       "  </tbody>\n",
       "</table>\n",
       "<p>5 rows × 42 columns</p>\n",
       "</div>"
      ],
      "text/plain": [
       "            gid visteam hometeam   site      date  number starttime daynight  \\\n",
       "0  ARI201704020     SFN      ARI  PHO01  20170402       0   1:10 PM      day   \n",
       "1  SLN201704020     CHN      SLN  STL10  20170402       0   7:38 PM    night   \n",
       "2  TBA201704020     NYA      TBA  STP01  20170402       0   1:12 PM      day   \n",
       "3  BAL201704030     TOR      BAL  BAL12  20170403       0   3:09 PM      day   \n",
       "4  BOS201704030     PIT      BOS  BOS07  20170403       0   2:06 PM      day   \n",
       "\n",
       "   innings  tiebreaker  ...  vruns hruns  wteam  lteam line batteries lineups  \\\n",
       "0      NaN         NaN  ...      5     6    ARI    SFN    y      both       y   \n",
       "1      NaN         NaN  ...      3     4    SLN    CHN    y      both       y   \n",
       "2      NaN         NaN  ...      3     7    TBA    NYA    y      both       y   \n",
       "3      NaN         NaN  ...      2     3    BAL    TOR    y      both       y   \n",
       "4      NaN         NaN  ...      3     5    BOS    PIT    y      both       y   \n",
       "\n",
       "   box pbp  season  \n",
       "0    y   y    2017  \n",
       "1    y   y    2017  \n",
       "2    y   y    2017  \n",
       "3    y   y    2017  \n",
       "4    y   y    2017  \n",
       "\n",
       "[5 rows x 42 columns]"
      ]
     },
     "execution_count": 64,
     "metadata": {},
     "output_type": "execute_result"
    }
   ],
   "source": [
    "df = pd.read_csv('data/2017-2019_gamestats.csv')\n",
    "df.head(5)"
   ]
  },
  {
   "cell_type": "code",
   "execution_count": null,
   "metadata": {
    "id": "ssKDUxhd1_2_",
    "outputId": "c171aa19-ead2-405a-b9f5-4efaf17dd70e"
   },
   "outputs": [
    {
     "data": {
      "text/plain": [
       "dict_keys(['game_outcomes', 'game_location', 'game_time'])"
      ]
     },
     "execution_count": 65,
     "metadata": {},
     "output_type": "execute_result"
    }
   ],
   "source": [
    "df_dict = {}\n",
    "df_dict['game_outcomes'] = df[['wteam', 'lteam']]\n",
    "df_dict['game_location'] = df[['site', 'hometeam', 'visteam']]\n",
    "df_dict['game_time'] = df[['starttime', 'daynight']]\n",
    "df_dict.keys()"
   ]
  },
  {
   "cell_type": "code",
   "execution_count": null,
   "metadata": {
    "id": "0r_BiF_U1_2_",
    "outputId": "b72dc4e3-5fcc-49ec-984c-8daebee19fb7"
   },
   "outputs": [
    {
     "data": {
      "text/plain": [
       "dict_keys(['game_outcomes', 'game_location', 'game_time', 'weather_conditions'])"
      ]
     },
     "execution_count": 66,
     "metadata": {},
     "output_type": "execute_result"
    }
   ],
   "source": [
    "df_dict['weather_conditions'] = df[['fieldcond', 'precip', 'sky', 'temp', 'windspeed']]\n",
    "df_dict.keys()"
   ]
  },
  {
   "cell_type": "code",
   "execution_count": null,
   "metadata": {
    "id": "RajXMtb31_2_",
    "outputId": "182e0159-387c-4ca1-9e3e-7b62746c1c75"
   },
   "outputs": [
    {
     "data": {
      "text/plain": [
       "(  wteam lteam\n",
       " 0   ARI   SFN\n",
       " 1   SLN   CHN\n",
       " 2   TBA   NYA\n",
       " 3   BAL   TOR\n",
       " 4   BOS   PIT,\n",
       "     site hometeam visteam\n",
       " 0  PHO01      ARI     SFN\n",
       " 1  STL10      SLN     CHN\n",
       " 2  STP01      TBA     NYA\n",
       " 3  BAL12      BAL     TOR\n",
       " 4  BOS07      BOS     PIT,\n",
       "   starttime daynight\n",
       " 0   1:10 PM      day\n",
       " 1   7:38 PM    night\n",
       " 2   1:12 PM      day\n",
       " 3   3:09 PM      day\n",
       " 4   2:06 PM      day)"
      ]
     },
     "execution_count": 69,
     "metadata": {},
     "output_type": "execute_result"
    }
   ],
   "source": [
    "game_outcomes_df = df_dict['game_outcomes']\n",
    "game_location_df = df_dict['game_location']\n",
    "game_time_df = df_dict['game_time']\n",
    "game_outcomes_df.head(), game_location_df.head(), game_time_df.head()"
   ]
  },
  {
   "cell_type": "markdown",
   "metadata": {
    "id": "_aJu_qK71_2_"
   },
   "source": [
    "# Ethics & Privacy"
   ]
  },
  {
   "cell_type": "markdown",
   "metadata": {
    "id": "myH1Lwte1_2_"
   },
   "source": [
    "- Thoughtful discussion of ethical concerns included\n",
    "- Ethical concerns consider the whole data science process (question asked, data collected, data being used, the bias in data, analysis, post-analysis, etc.)\n",
    "- How your group handled bias/ethical concerns clearly described\n",
    "\n",
    "Acknowledge and address any ethics & privacy related issues of your question(s), proposed dataset(s), and/or analyses. Use the information provided in lecture to guide your group discussion and thinking. If you need further guidance, check out [Deon's Ethics Checklist](http://deon.drivendata.org/#data-science-ethics-checklist). In particular:\n",
    "\n",
    "- Are there any biases/privacy/terms of use issues with the data you propsed?\n",
    "- Are there potential biases in your dataset(s), in terms of who it composes, and how it was collected, that may be problematic in terms of it allowing for equitable analysis? (For example, does your data exclude particular populations, or is it likely to reflect particular human biases in a way that could be a problem?)\n",
    "- How will you set out to detect these specific biases before, during, and after/when communicating your analysis?\n",
    "- Are there any other issues related to your topic area, data, and/or analyses that are potentially problematic in terms of data privacy and equitable impact?\n",
    "- How will you handle issues you identified?\n",
    "\n",
    "### Are there any biases/privacy/terms of use issues with the data you propsed? - YES\n",
    "- The primary data sources would include available MLB statistics (from MLB or 3rd-party), player performance metrics, and environmental factors like weather and travel distances. While this form of data is publicly accessible, there could be some bias in the overrepresentation of certain teams, seasons, or players. The privacy issues would be minimal, as this data involves professional athletes and publicly held games; therefore, much of the statistics and game information would be in the public domain. Terms of use issues would be that some data sources might have restrictions on how their data can be used, as it might violate some of their terms of service if not done properly.\n",
    "\n",
    "Are there potential biases in your dataset(s), in terms of who it composes and how it was collected, that may be problematic in terms of it allowing for equitable analysis? (For example, does your data exclude particular populations, or is it likely to reflect particular human biases in a way that could be a problem?)\n",
    "\n",
    "- There are potential biases, like sampling biases, if the dataset doesn't cover all the teams equally or doesn't include certain seasons or games. Different methods of data collection would create some inaccuracies, like, for example, the weather. Weather data collected from far from the station might not accurately reflect the weather conditions of the game. Also, with the distribution of fans, more popular teams would have a larger market size and budget. Allowing these teams to afford better facilities, hire better players, trainers, and travel accommodations.\n",
    "\n",
    "How will you set out to detect these specific biases before, during, and after/when communicating your analysis?\n",
    "\n",
    "- Before analysis, perform a proper check on all datasets to see if we missed any values, outliers, or inconsistencies. Ensure that all teams, players, team compositions, and seasons are properly represented in the data. Sourcing data from credible and reliable sources to ensure accurate data.\n",
    "\n",
    "Are there any other issues related to your topic area, data, and/or analyses that are potentially problematic in terms of data privacy and equitable impact?\n",
    "\n",
    "- If this data were to be used beyond its intended scope, it might violate some sources’ terms of service, which would lead to some legal and ethical issues. If data steers towards the need to include players’ health, some HIPAA violations would be possible. When analyzing fan attitudes, we need to be careful of perpetuating stereotypes or offending certain groups.\n",
    "\n",
    "How will you handle issues you identified?\n",
    "\n",
    "- We will be using appropriate methods to account for any missing information, gathered properly through data sources that we’ve carefully read and followed their terms of service. If there are restrictions, we will look for any alternative data sources that are open to the public and free to use. When comparing our data, to ensure its accuracy, we use reliable sources to check, as well as thoroughly clean the data to fix any errors or inconsistencies. Present our findings without biases and openly discuss any limitations or potential biases in our studies."
   ]
  },
  {
   "cell_type": "markdown",
   "metadata": {
    "id": "NH2v2yVw1_3A"
   },
   "source": [
    "# Team Expectations"
   ]
  },
  {
   "cell_type": "markdown",
   "metadata": {
    "id": "TFfmARv-1_3A"
   },
   "source": [
    "* Commitment to Timely Contribution:\n",
    "Everyone should adhere to deadlines set by the group to ensure that work progresses smoothly.\n",
    "If someone is unable to complete a task on time, they should inform the team as soon as possible so that adjustments can be made.\n",
    "\n",
    "* Communication Protocols:\n",
    "The team will primarily communicate through  Discord.\n",
    "We will meet weekly on Monday at Geisel to assign new tasks, and to address any concerns.\n",
    "Everyone in the group are expected to check the Discord daily. If there's a post on Discord, at least a discord-emoji-reaction is expected to make sure everyone read the post. Constructive responses are appreciated.\n",
    "\n",
    "* Respectful Conflict Resolution:\n",
    "If conflicts arise, the team will discuss them during scheduled meetings calmly and respectfully. The aim will always be to understand one another’s perspectives and find a solution that works for everyone.\n",
    "\n",
    "* Task Delegation and Roles:\n",
    "Tasks will be assigned based on each member and everyone is encouraged to participate in decision-making to distribute responsibilities equitably.\n",
    "Team members are encouraged to assist each other when someone needs help. Collaboration is key to the project’s success.\n",
    "\n",
    "* Work Quality and Effort:\n",
    "Everyone should feel comfortable offering constructive feedback and asking questions whenever clarification is needed.\n",
    "\n",
    "* Accountability:\n",
    "Each member will be responsible for the tasks they are assigned. If unexpected situations arise, make sure to mention it on Discord as soon as possible. Remember that everyone in the group are UCSD students and are busy having their assignments/exams as well as you are.\n",
    "\n",
    "* Inclusiveness and Respect:\n",
    "All opinions and ideas will be treated with respect. Contributions from every team member are valuable, and everyone will be encouraged to speak up during discussions."
   ]
  },
  {
   "cell_type": "markdown",
   "metadata": {
    "id": "JLkooITp1_3A"
   },
   "source": [
    "# Project Timeline Proposal"
   ]
  },
  {
   "cell_type": "markdown",
   "metadata": {
    "id": "egaVgaq11_3A"
   },
   "source": [
    "| Meeting Date  | Meeting Time| Completed Before Meeting  | Discuss at Meeting |\n",
    "|---|---|---|---|\n",
    "| Every Monday  |  12 PM | Read the progress made during Last Week  | One-hour weekly meeting at Geisel to share the progress and plans |\n",
    "| 10/30 |  12 PM |  Read what we need for project proposal | Discuss and make progress to submit the project proposal. |\n",
    "| 10/30  | Deadline  |  Project Proposal | Finish and push the final data to Github by the end of the day  |\n",
    "|11/4| 12 PM | Read the DataCheckPoint file to understand what we need for the submission | Discuss who will do which part and make the schedule concrete. |\n",
    "| 11/11 | 12 PM | Read the progress made by the group until Sunday | Discuss if there's any problem and make sure we can submit them on Wednesday. |\n",
    "| 11/13  | Deadline  | Checkpoint #1: Data | Finish and push the final data to Github by the end of the day  |\n",
    "| 11/18 | 12 PM | Read the progress made by the group until Sunday | Discuss who will do which part and make the schedule concrete. |\n",
    "| 11/25 | 12 PM | Read the progress made by the group until Sunday | Discuss if there's any problem and make sure we can submit them on Wednesday. |\n",
    "| 11/27  | Deadline  | Checkpoint #2: EDA | Finish and push the final data to Github by the end of the day |\n",
    "| 12/11 | Deadline | Final submission | |"
   ]
  }
 ],
 "metadata": {
  "colab": {
   "provenance": []
  },
  "kernelspec": {
   "display_name": "Python 3 (ipykernel)",
   "language": "python",
   "name": "python3"
  },
  "language_info": {
   "codemirror_mode": {
    "name": "ipython",
    "version": 3
   },
   "file_extension": ".py",
   "mimetype": "text/x-python",
   "name": "python",
   "nbconvert_exporter": "python",
   "pygments_lexer": "ipython3",
   "version": "3.11.9"
  }
 },
 "nbformat": 4,
 "nbformat_minor": 4
}
