{
 "cells": [
  {
   "cell_type": "markdown",
   "metadata": {
    "id": "78Me43xJ8_yo"
   },
   "source": [
    "**If you lost points on the last checkpoint you can get them back by responding to TA/IA feedback**  \n",
    "\n",
    "Update/change the relevant sections where you lost those points, make sure you respond on GitHub Issues to your TA/IA to call their attention to the changes you made here.\n",
    "\n",
    "Please update your Timeline... no battle plan survives contact with the enemy, so make sure we understand how your plans have changed."
   ]
  },
  {
   "cell_type": "markdown",
   "metadata": {
    "id": "_5AiaAjv8_yr"
   },
   "source": [
    "# COGS 108 - EDA Checkpoint"
   ]
  },
  {
   "cell_type": "markdown",
   "metadata": {
    "id": "rxX-HPwL8_yr"
   },
   "source": [
    "# Names\n",
    "Listed by alphabetical order\n",
    "- Alexander Zhen\n",
    "- Athena Wu\n",
    "- Chaowen Cao\n",
    "- Takafumi Matsui\n",
    "- Xinheng Wang"
   ]
  },
  {
   "cell_type": "markdown",
   "metadata": {
    "id": "xTarSqhx8_yr"
   },
   "source": [
    "# Research Question"
   ]
  },
  {
   "cell_type": "markdown",
   "metadata": {
    "id": "71nLLv3N8_ys"
   },
   "source": [
    "### To what extent does home field advantage affect the winning rate of MLB teams, disregarding other factors not related to the home field, and how does this effect vary across different teams?\n",
    "\n",
    "By saying \"other factors not related to the home field,\" we are trying to eliminate the effects regarding traveling, such as jet lags or traveling time. Also, the game-specific data, including how many audience members were in the stadium, the weather on the game day, and the park factors."
   ]
  },
  {
   "cell_type": "markdown",
   "metadata": {
    "id": "PWG1cmHR8_ys"
   },
   "source": [
    "## Background and Prior Work"
   ]
  },
  {
   "cell_type": "markdown",
   "metadata": {
    "id": "dfUSFEe68_ys"
   },
   "source": [
    "  In sports, the concept of home advantage refers to the benefit that the home team is said to have over the visiting team. For instance, if a game takes place in city A, team A from city A is said to have a home advantage when playing against team B from city B. Some believe that home teams have advantages over visiting teams in both the psychological and the physical aspect. Due to physical proximity, audiences of the game are more likely to be fans of the home team.Physically, the visiting team often faces challenges such as adjusting to different time zones, unfamiliar environments, and unique stadium conditions. These factors are believed to contribute to the advantages for home teams, potentially impacting the game’s outcome.\n",
    "\n",
    "  In a study done by Barry and Barsky<a name=\"cite_ref-1\"></a>[<sup>1</sup>](#cite_note-1), it is shown that home game advantage varies across different sports. Hockey and basketball shows the most significant differences, meaning that the home team has the most significant advantage. On the other hand, home teams of football games has a smaller advantage while home teams of baseball has the least advantage over the visiting team compared to other sports. Furthermore, in this study, the authors reached the conclusion that other factors, such as audience support, play a role in the effectiveness of home game advantages.\n",
    "\n",
    "  In another study done by Harville and Smith<a name=\"cite_ref-2\"></a>[<sup>2</sup>](#cite_note-2), the effects of home game advantages on college basketball teams were analyzed. The authors concluded that the estimated benefit of playing at home is about 4.68 points, and this advantage is approximately the same across different teams.\n",
    "\n",
    "  Other studies have shown the effects of home game advantages across different sports. For example, in the study done by Nevill et al.<a name=\"cite_ref-3\"></a>[<sup>3</sup>](#cite_note-3), major team sports are shown to be positively impacted by the home game advantage. In American football, of the 2592 games analyzed, the home winning percentage is 57.3%. On the other hand, in ice hockey, the home winning percentage is 59.5%. Soccer shows an even higher home winning rate of 63.9%.\n",
    "\n",
    "  In a blog post “Is there a home-game advantage in professional sport?”<a name=\"cite_ref-4\"></a>[<sup>4</sup>](#cite_note-4), written by Peter Hersh,  the home-game advantages of MLB (Major League Baseball), NBA (National Basketball Association), NFL (National Football League), and NHL (National Hockey League) over the past decade are analyzed. Based on the analysis, all 4 sports show an advantage when the games are played at home. Overall, MLB shows the smallest advantage compared to other sports. During the year of the pandemic, however, MLB shows the greatest home advantage compared to the other team sports.\n",
    "\n",
    "1. <a name=\"cite_note-1\"></a> [^](#cite_ref-1) Schwartz, Barry, and Stephen F. Barsky. “The Home Advantage.” Social Forces 55, no. 3 (1977): 641–61. https://www.jstor.org/stable/2577461\n",
    "\n",
    "2. <a name=\"cite_note-2\"></a> [^](#cite_ref-2) Harville, David A., and Michael H. Smith. “The Home-Court Advantage: How Large Is It, and Does It Vary from Team to Team?” The American Statistician 48, no. 1 (1994): 22–28. https://www.jstor.org/stable/2685080\n",
    "\n",
    "3. <a name=\"cite_note-3\"></a> [^](#cite_ref-3) Nevill, A.M., Holder, R.L. Home Advantage in Sport. Sports Med 28, 221–236 (1999). https://doi.org/10.2165/00007256-199928040-00001\n",
    "\n",
    "4. <a name=\"cite_note-4\"></a> [^](#cite_ref-4) Hersh P. Is there a home-game advantage in professional sports? (June, 2023).https://community.jmp.com/t5/JMP-Blog/Is-there-a-home-game-advantage-in-professional-sports/ba-p/641566"
   ]
  },
  {
   "cell_type": "markdown",
   "metadata": {
    "id": "MI2bxtU58_yt"
   },
   "source": [
    "# Hypothesis\n"
   ]
  },
  {
   "cell_type": "markdown",
   "metadata": {
    "id": "RbqYDsR18_yt"
   },
   "source": [
    " ### Hypothesis:\n",
    " After excluding the factors not related to the home-field advantage, we expect that MLB teams have a far larger winning rate when playing in their home stadium compared to away, with the magnitude of that home-field advantage varying between teams based on factors such as fan support, travel distance, and familiarity with playing conditions.\n",
    "\n",
    "\n",
    "### Explanations:\n",
    " We expect teams to be performing better at home because of the psychological benefits of fan support, less travel fatigue, and field conditions. Also, shorter travel times and no jet lag will help players to perform much better than when playing in a visiting game. This hypothesis is inspired by substantial evidence in sports psychology and player metrics indicating that home-field advantage is one of the main players in team performance."
   ]
  },
  {
   "cell_type": "markdown",
   "metadata": {
    "id": "BrkH86bk8_yt"
   },
   "source": [
    "# Data"
   ]
  },
  {
   "cell_type": "markdown",
   "metadata": {
    "id": "9948rgiF8_yt"
   },
   "source": [
    "## Data overview\n",
    "\n",
    "For each dataset include the following information\n",
    "- Dataset #1\n",
    "  - Dataset Name:\n",
    "  - Link to the dataset:\n",
    "  - Number of observations:\n",
    "  - Number of variables:\n",
    "- Dataset #2 (if you have more than one!)\n",
    "  - Dataset Name:\n",
    "  - Link to the dataset:\n",
    "  - Number of observations:\n",
    "  - Number of variables:\n",
    "- etc\n",
    "\n",
    "Now write 2 - 5 sentences describing each dataset here. Include a short description of the important variables in the dataset; what the metrics and datatypes are, what concepts they may be proxies for. Include information about how you would need to wrangle/clean/preprocess the dataset\n",
    "\n",
    "If you plan to use multiple datasets, add a few sentences about how you plan to combine these datasets."
   ]
  },
  {
   "cell_type": "code",
   "execution_count": 1,
   "metadata": {
    "id": "M8e1nfxt8_yu"
   },
   "outputs": [],
   "source": [
    "from bs4 import BeautifulSoup\n",
    "import pandas as pd\n",
    "import matplotlib.pyplot as plt"
   ]
  },
  {
   "cell_type": "markdown",
   "metadata": {
    "id": "hJJ_AIyp8_yu"
   },
   "source": [
    "## Win/Lose and Weather Data"
   ]
  },
  {
   "cell_type": "code",
   "execution_count": 2,
   "metadata": {
    "id": "o7lAmkTT8_yu"
   },
   "outputs": [],
   "source": [
    "data_2017 = {}\n",
    "data_2018 = {}\n",
    "data_2019 = {}\n",
    "data_2021 = {}\n",
    "data_2022 = {}\n",
    "data_2023 = {}\n",
    "\n",
    "# strip the data and add to the corresponding dictionary\n",
    "with open(\"data/2017_results.txt\", 'r') as file:\n",
    "    # iterate through each line and split key-value pairs\n",
    "    for line in file:\n",
    "        key, value = line.strip().split(',', 1) #splits after the first comma\n",
    "        #print(value)\n",
    "        # Store the key-value pair in the dictionary\n",
    "        if key in data_2017:\n",
    "            # If key already exists, append the new value to a list\n",
    "            data_2017[key].append(value)\n",
    "        else:\n",
    "            # If key is not already in the dictionary, create a new entry with a list\n",
    "            data_2017[key] = [value]\n",
    "\n",
    "\n",
    "with open(\"data/2018_results.txt\", 'r') as file:\n",
    "    # iterate through each line and split key-value pairs\n",
    "    for line in file:\n",
    "        key, value = line.strip().split(',', 1) #splits after the first comma\n",
    "        #print(value)\n",
    "        # Store the key-value pair in the dictionary\n",
    "        if key in data_2018:\n",
    "            # If key already exists, append the new value to a list\n",
    "            data_2018[key].append(value)\n",
    "        else:\n",
    "            # If key is not already in the dictionary, create a new entry with a list\n",
    "            data_2018[key] = [value]\n",
    "\n",
    "with open(\"data/2019_results.txt\", 'r') as file:\n",
    "    # iterate through each line and split key-value pairs\n",
    "    for line in file:\n",
    "        key, value = line.strip().split(',', 1) #splits after the first comma\n",
    "        #print(value)\n",
    "        # Store the key-value pair in the dictionary\n",
    "        if key in data_2019:\n",
    "            # If key already exists, append the new value to a list\n",
    "            data_2019[key].append(value)\n",
    "        else:\n",
    "            # If key is not already in the dictionary, create a new entry with a list\n",
    "            data_2019[key] = [value]\n",
    "\n",
    "with open(\"data/2021_results.txt\", 'r') as file:\n",
    "    # iterate through each line and split key-value pairs\n",
    "    for line in file:\n",
    "        key, value = line.strip().split(',', 1) #splits after the first comma\n",
    "        #print(value)\n",
    "        # Store the key-value pair in the dictionary\n",
    "        if key in data_2021:\n",
    "            # If key already exists, append the new value to a list\n",
    "            data_2021[key].append(value)\n",
    "        else:\n",
    "            # If key is not already in the dictionary, create a new entry with a list\n",
    "            data_2021[key] = [value]\n",
    "\n",
    "with open(\"data/2022_results.txt\", 'r') as file:\n",
    "    # iterate through each line and split key-value pairs\n",
    "    for line in file:\n",
    "        key, value = line.strip().split(',', 1) #splits after the first comma\n",
    "        #print(value)\n",
    "        # Store the key-value pair in the dictionary\n",
    "        if key in data_2022:\n",
    "            # If key already exists, append the new value to a list\n",
    "            data_2022[key].append(value)\n",
    "        else:\n",
    "            # If key is not already in the dictionary, create a new entry with a list\n",
    "            data_2022[key] = [value]\n",
    "\n",
    "with open(\"data/2023_results.txt\", 'r') as file:\n",
    "    # iterate through each line and split key-value pairs\n",
    "    for line in file:\n",
    "        key, value = line.strip().split(',', 1) #splits after the first comma\n",
    "        #print(value)\n",
    "        # Store the key-value pair in the dictionary\n",
    "        if key in data_2023:\n",
    "            # If key already exists, append the new value to a list\n",
    "            data_2023[key].append(value)\n",
    "        else:\n",
    "            # If key is not already in the dictionary, create a new entry with a list\n",
    "            data_2023[key] = [value]"
   ]
  },
  {
   "cell_type": "code",
   "execution_count": 3,
   "metadata": {
    "id": "UqIpdUJE8_yv",
    "outputId": "42e1e2dd-88c9-4fc1-a8f6-d738e0a72a95"
   },
   "outputs": [
    {
     "name": "stdout",
     "output_type": "stream",
     "text": [
      "     Temperature Windspeed  Visiting Team Score  Home Team Score\n",
      "0             65         7                    1                5\n",
      "1             63         9                    4                5\n",
      "2             66         7                    9               10\n",
      "3             69         7                    5                6\n",
      "4             67         4                    8                3\n",
      "...          ...       ...                  ...              ...\n",
      "1210          71         5                   15                5\n",
      "1211          74         7                    1                0\n",
      "1212          74         3                    1                8\n",
      "1213          81         5                    5                1\n",
      "1214          80         6                    5                9\n",
      "\n",
      "[1215 rows x 4 columns]\n"
     ]
    }
   ],
   "source": [
    "# analyze data of 2017\n",
    "temp_data = []\n",
    "windspeed_data = []\n",
    "all_visiting_score = [] #stores the score of all visiting teams (i.e. scores throughout the year)\n",
    "all_home_score = []\n",
    "for entry in data_2017[\"info\"]:\n",
    "    if entry.startswith('temp,'):\n",
    "        temp_value = entry.split(',')[1] #get the value behind ,\n",
    "        #print(temp_value)\n",
    "        temp_data.append(temp_value)\n",
    "    if entry.startswith('windspeed'):\n",
    "        windspeed_value = entry.split(',')[1]\n",
    "        #print(windspeed_value)\n",
    "        windspeed_data.append(windspeed_value)\n",
    "for entry in data_2017['line']:\n",
    "    if entry[0] == '0': #data for visiting team\n",
    "        visiting_score = 0\n",
    "        visiting_score_list = entry[2:] # start from 2 because the 0th element indicates whether it is a visiting team or a home team and the 1st element is a comma\n",
    "        visiting_score_list = visiting_score_list.split(\",\") # creates a list of strings of scores\n",
    "        for i in visiting_score_list:\n",
    "            visiting_score += int(i) # convert each string score to int and sum up to generate total score\n",
    "        all_visiting_score.append(visiting_score)\n",
    "    else: #data for home team\n",
    "        home_score = 0\n",
    "        home_score_list = entry[2:]\n",
    "        home_score_list = home_score_list.split(\",\")\n",
    "        for i in home_score_list:\n",
    "            home_score += int(i)\n",
    "        #print(home_score)\n",
    "        all_home_score.append(home_score)\n",
    "\n",
    "data = pd.read_csv('data/2017gameinfo.csv')\n",
    "game_date = data['date'].tolist()\n",
    "winning_team = data['wteam'].tolist()\n",
    "losing_team = data['lteam'].tolist()\n",
    "\n",
    "game_date = game_date[:1215]\n",
    "winning_team = winning_team[:1215]\n",
    "losing_team = losing_team[:1215]\n",
    "\n",
    "df = pd.DataFrame({\n",
    "    'Date': game_date,\n",
    "    'W_Team': winning_team,\n",
    "    'L_Team': losing_team,\n",
    "    'Visiting Team Score': all_visiting_score,\n",
    "    'Home Team Score': all_home_score\n",
    "    'Temperature': temp_data,\n",
    "    'Windspeed': windspeed_data,\n",
    "})\n",
    "\n",
    "print(df)"
   ]
  },
  {
   "cell_type": "code",
   "execution_count": 4,
   "metadata": {
    "id": "2qmIbj668_yv",
    "outputId": "6750279f-0bd2-4e81-abde-32f4dd535f6b"
   },
   "outputs": [
    {
     "name": "stdout",
     "output_type": "stream",
     "text": [
      "     Temperature Windspeed  Visiting Team Score  Home Team Score\n",
      "0             62         7                    6                0\n",
      "1             65         4                    2               13\n",
      "2             65         6                    2                3\n",
      "3             65         4                    9               13\n",
      "4             67         8                    7                3\n",
      "...          ...       ...                  ...              ...\n",
      "1210          59         6                    2                5\n",
      "1211          63         7                    5                2\n",
      "1212          68         0                    5                3\n",
      "1213          68         0                    4                1\n",
      "1214          66        16                    1                3\n",
      "\n",
      "[1215 rows x 4 columns]\n"
     ]
    }
   ],
   "source": [
    "# analyze data of 2018\n",
    "temp_data = []\n",
    "windspeed_data = []\n",
    "all_visiting_score = [] #stores the score of all visiting teams (i.e. scores throughout the year)\n",
    "all_home_score = []\n",
    "for entry in data_2018[\"info\"]:\n",
    "    if entry.startswith('temp,'):\n",
    "        temp_value = entry.split(',')[1] #get the value behind ,\n",
    "        #print(temp_value)\n",
    "        temp_data.append(temp_value)\n",
    "    if entry.startswith('windspeed'):\n",
    "        windspeed_value = entry.split(',')[1]\n",
    "        #print(windspeed_value)\n",
    "        windspeed_data.append(windspeed_value)\n",
    "for entry in data_2018['line']:\n",
    "    if entry[0] == '0': #data for visiting team\n",
    "        visiting_score = 0\n",
    "        visiting_score_list = entry[2:] # start from 2 because the 0th element indicates whether it is a visiting team or a home team and the 1st element is a comma\n",
    "        visiting_score_list = visiting_score_list.split(\",\") # creates a list of strings of scores\n",
    "        for i in visiting_score_list:\n",
    "            visiting_score += int(i) # convert each string score to int and sum up to generate total score\n",
    "        all_visiting_score.append(visiting_score)\n",
    "    else: #data for home team\n",
    "        home_score = 0\n",
    "        home_score_list = entry[2:]\n",
    "        home_score_list = home_score_list.split(\",\")\n",
    "        for i in home_score_list:\n",
    "            home_score += int(i)\n",
    "        #print(home_score)\n",
    "        all_home_score.append(home_score)\n",
    "\n",
    "df = pd.DataFrame({\n",
    "    'Temperature': temp_data,\n",
    "    'Windspeed': windspeed_data,\n",
    "    'Visiting Team Score': all_visiting_score,\n",
    "    'Home Team Score': all_home_score\n",
    "})\n",
    "\n",
    "print(df)"
   ]
  },
  {
   "cell_type": "code",
   "execution_count": 5,
   "metadata": {
    "id": "J4WWtcUj8_yv",
    "outputId": "e66e81c8-50b9-4d41-d1bf-43c50efab5d4"
   },
   "outputs": [
    {
     "name": "stdout",
     "output_type": "stream",
     "text": [
      "     Temperature Windspeed  Visiting Team Score  Home Team Score\n",
      "0             61         6                   11                4\n",
      "1             63         8                    1                3\n",
      "2             68         8                    1                5\n",
      "3             75         6                    2                7\n",
      "4             77         7                    2                5\n",
      "...          ...       ...                  ...              ...\n",
      "1209          68         5                   11                4\n",
      "1210          72        16                    2                3\n",
      "1211          68         0                    6                2\n",
      "1212          64         7                    1                4\n",
      "1213          57        16                    3                8\n",
      "\n",
      "[1214 rows x 4 columns]\n"
     ]
    }
   ],
   "source": [
    "# analyze data of 2019\n",
    "temp_data = []\n",
    "windspeed_data = []\n",
    "all_visiting_score = [] #stores the score of all visiting teams (i.e. scores throughout the year)\n",
    "all_home_score = []\n",
    "for entry in data_2019[\"info\"]:\n",
    "    if entry.startswith('temp,'):\n",
    "        temp_value = entry.split(',')[1] #get the value behind ,\n",
    "        #print(temp_value)\n",
    "        temp_data.append(temp_value)\n",
    "    if entry.startswith('windspeed'):\n",
    "        windspeed_value = entry.split(',')[1]\n",
    "        #print(windspeed_value)\n",
    "        windspeed_data.append(windspeed_value)\n",
    "for entry in data_2019['line']:\n",
    "    if entry[0] == '0': #data for visiting team\n",
    "        visiting_score = 0\n",
    "        visiting_score_list = entry[2:] # start from 2 because the 0th element indicates whether it is a visiting team or a home team and the 1st element is a comma\n",
    "        visiting_score_list = visiting_score_list.split(\",\") # creates a list of strings of scores\n",
    "        for i in visiting_score_list:\n",
    "            visiting_score += int(i) # convert each string score to int and sum up to generate total score\n",
    "        all_visiting_score.append(visiting_score)\n",
    "    else: #data for home team\n",
    "        home_score = 0\n",
    "        home_score_list = entry[2:]\n",
    "        home_score_list = home_score_list.split(\",\")\n",
    "        for i in home_score_list:\n",
    "            home_score += int(i)\n",
    "        #print(home_score)\n",
    "        all_home_score.append(home_score)\n",
    "\n",
    "df = pd.DataFrame({\n",
    "    'Temperature': temp_data,\n",
    "    'Windspeed': windspeed_data,\n",
    "    'Visiting Team Score': all_visiting_score,\n",
    "    'Home Team Score': all_home_score\n",
    "})\n",
    "\n",
    "print(df)"
   ]
  },
  {
   "cell_type": "code",
   "execution_count": 6,
   "metadata": {
    "id": "mrDBmlrs8_yw",
    "outputId": "52510160-00f0-4ed0-ea11-f95b9043e4b6"
   },
   "outputs": [
    {
     "name": "stdout",
     "output_type": "stream",
     "text": [
      "     Temperature Windspeed  Visiting Team Score  Home Team Score\n",
      "0             81         6                    3                4\n",
      "1             66        10                   12                8\n",
      "2             71        10                    3                5\n",
      "3             72        13                    4                7\n",
      "4             65        10                    6                7\n",
      "...          ...       ...                  ...              ...\n",
      "1210          64        13                    5                6\n",
      "1211          58         6                    6                2\n",
      "1212          62         3                    4                6\n",
      "1213          73        13                    1               10\n",
      "1214          68         0                    4               12\n",
      "\n",
      "[1215 rows x 4 columns]\n"
     ]
    }
   ],
   "source": [
    "# analyze data of 2021\n",
    "temp_data = []\n",
    "windspeed_data = []\n",
    "all_visiting_score = [] #stores the score of all visiting teams (i.e. scores throughout the year)\n",
    "all_home_score = []\n",
    "for entry in data_2021[\"info\"]:\n",
    "    if entry.startswith('temp,'):\n",
    "        temp_value = entry.split(',')[1] #get the value behind ,\n",
    "        #print(temp_value)\n",
    "        temp_data.append(temp_value)\n",
    "    if entry.startswith('windspeed'):\n",
    "        windspeed_value = entry.split(',')[1]\n",
    "        #print(windspeed_value)\n",
    "        windspeed_data.append(windspeed_value)\n",
    "for entry in data_2021['line']:\n",
    "    if entry[0] == '0': #data for visiting team\n",
    "        visiting_score = 0\n",
    "        visiting_score_list = entry[2:] # start from 2 because the 0th element indicates whether it is a visiting team or a home team and the 1st element is a comma\n",
    "        visiting_score_list = visiting_score_list.split(\",\") # creates a list of strings of scores\n",
    "        for i in visiting_score_list:\n",
    "            visiting_score += int(i) # convert each string score to int and sum up to generate total score\n",
    "        all_visiting_score.append(visiting_score)\n",
    "    else: #data for home team\n",
    "        home_score = 0\n",
    "        home_score_list = entry[2:]\n",
    "        home_score_list = home_score_list.split(\",\")\n",
    "        for i in home_score_list:\n",
    "            home_score += int(i)\n",
    "        #print(home_score)\n",
    "        all_home_score.append(home_score)\n",
    "\n",
    "df = pd.DataFrame({\n",
    "    'Temperature': temp_data,\n",
    "    'Windspeed': windspeed_data,\n",
    "    'Visiting Team Score': all_visiting_score,\n",
    "    'Home Team Score': all_home_score\n",
    "})\n",
    "\n",
    "print(df)"
   ]
  },
  {
   "cell_type": "code",
   "execution_count": 7,
   "metadata": {
    "id": "oCZVGmhu8_yw",
    "outputId": "8b94d5bc-fb3e-4a87-9e90-4c4c4e53671c"
   },
   "outputs": [
    {
     "name": "stdout",
     "output_type": "stream",
     "text": [
      "     Temperature Windspeed  Visiting Team Score  Home Team Score\n",
      "0             93         6                    3                1\n",
      "1             93        10                   13                6\n",
      "2             72        12                    0                2\n",
      "3             70         7                    4                1\n",
      "4             65         9                    2                6\n",
      "...          ...       ...                  ...              ...\n",
      "1210          68         0                    5                2\n",
      "1211          68         0                    8                3\n",
      "1212          68         0                    0                9\n",
      "1213          63         8                    0               10\n",
      "1214          68         0                    3                6\n",
      "\n",
      "[1215 rows x 4 columns]\n"
     ]
    }
   ],
   "source": [
    "# analyze data of 2022\n",
    "temp_data = []\n",
    "windspeed_data = []\n",
    "all_visiting_score = [] #stores the score of all visiting teams (i.e. scores throughout the year)\n",
    "all_home_score = []\n",
    "for entry in data_2022[\"info\"]:\n",
    "    if entry.startswith('temp,'):\n",
    "        temp_value = entry.split(',')[1] #get the value behind ,\n",
    "        #print(temp_value)\n",
    "        temp_data.append(temp_value)\n",
    "    if entry.startswith('windspeed'):\n",
    "        windspeed_value = entry.split(',')[1]\n",
    "        #print(windspeed_value)\n",
    "        windspeed_data.append(windspeed_value)\n",
    "for entry in data_2022['line']:\n",
    "    if entry[0] == '0': #data for visiting team\n",
    "        visiting_score = 0\n",
    "        visiting_score_list = entry[2:] # start from 2 because the 0th element indicates whether it is a visiting team or a home team and the 1st element is a comma\n",
    "        visiting_score_list = visiting_score_list.split(\",\") # creates a list of strings of scores\n",
    "        for i in visiting_score_list:\n",
    "            visiting_score += int(i) # convert each string score to int and sum up to generate total score\n",
    "        all_visiting_score.append(visiting_score)\n",
    "    else: #data for home team\n",
    "        home_score = 0\n",
    "        home_score_list = entry[2:]\n",
    "        home_score_list = home_score_list.split(\",\")\n",
    "        for i in home_score_list:\n",
    "            home_score += int(i)\n",
    "        #print(home_score)\n",
    "        all_home_score.append(home_score)\n",
    "\n",
    "df = pd.DataFrame({\n",
    "    'Temperature': temp_data,\n",
    "    'Windspeed': windspeed_data,\n",
    "    'Visiting Team Score': all_visiting_score,\n",
    "    'Home Team Score': all_home_score\n",
    "})\n",
    "\n",
    "print(df)"
   ]
  },
  {
   "cell_type": "code",
   "execution_count": null,
   "metadata": {
    "id": "9yIWubLl8_yw",
    "outputId": "0249812f-2b89-4f93-a767-5df2d28022cf"
   },
   "outputs": [
    {
     "name": "stdout",
     "output_type": "stream",
     "text": [
      "     Temperature Windspeed  Visiting Team Score  Home Team Score\n",
      "0             64         6                    4                3\n",
      "1             63         8                    5                9\n",
      "2             72         5                   12               11\n",
      "3             66         6                    6                4\n",
      "4             63         8                    0                2\n",
      "...          ...       ...                  ...              ...\n",
      "1210          68         0                    6                0\n",
      "1211          63        16                    0                6\n",
      "1212          64         8                    4               11\n",
      "1213          68         7                    7                5\n",
      "1214          79         6                   12                8\n",
      "\n",
      "[1215 rows x 4 columns]\n"
     ]
    }
   ],
   "source": [
    "# analyze data of 2023\n",
    "temp_data = []\n",
    "windspeed_data = []\n",
    "all_visiting_score = [] #stores the score of all visiting teams (i.e. scores throughout the year)\n",
    "all_home_score = []\n",
    "for entry in data_2023[\"info\"]:\n",
    "    if entry.startswith('temp,'):\n",
    "        temp_value = entry.split(',')[1] #get the value behind ,\n",
    "        #print(temp_value)\n",
    "        temp_data.append(temp_value)\n",
    "    if entry.startswith('windspeed'):\n",
    "        windspeed_value = entry.split(',')[1]\n",
    "        #print(windspeed_value)\n",
    "        windspeed_data.append(windspeed_value)\n",
    "for entry in data_2023['line']:\n",
    "    if entry[0] == '0': #data for visiting team\n",
    "        visiting_score = 0\n",
    "        visiting_score_list = entry[2:] # start from 2 because the 0th element indicates whether it is a visiting team or a home team and the 1st element is a comma\n",
    "        visiting_score_list = visiting_score_list.split(\",\") # creates a list of strings of scores\n",
    "        for i in visiting_score_list:\n",
    "            visiting_score += int(i) # convert each string score to int and sum up to generate total score\n",
    "        all_visiting_score.append(visiting_score)\n",
    "    else: #data for home team\n",
    "        home_score = 0\n",
    "        home_score_list = entry[2:]\n",
    "        home_score_list = home_score_list.split(\",\")\n",
    "        for i in home_score_list:\n",
    "            home_score += int(i)\n",
    "        #print(home_score)\n",
    "        all_home_score.append(home_score)\n",
    "\n",
    "df = pd.DataFrame({\n",
    "    'Temperature': temp_data,\n",
    "    'Windspeed': windspeed_data,\n",
    "    'Visiting Team Score': all_visiting_score,\n",
    "    'Home Team Score': all_home_score\n",
    "})\n",
    "\n",
    "print(df)"
   ]
  },
  {
   "cell_type": "markdown",
   "metadata": {
    "id": "-g-bdbj_8_yw"
   },
   "source": [
    "## Injury Report Data and Baseball Reference Game Logs"
   ]
  },
  {
   "cell_type": "code",
   "execution_count": 8,
   "metadata": {
    "id": "iAdoMl6Y8_yw"
   },
   "outputs": [],
   "source": [
    "injury_report = pd.read_csv('data/Injury_report.csv')\n",
    "game_log_2017 = pd.read_csv('data/processed_2017.csv')\n",
    "game_log_2018 = pd.read_csv('data/processed_2018.csv')\n",
    "game_log_2019 = pd.read_csv('data/processed_2019.csv')\n",
    "game_log_2021 = pd.read_csv('data/processed_2021.csv')\n",
    "game_log_2022 = pd.read_csv('data/processed_2022.csv')\n",
    "game_log_2023 = pd.read_csv('data/processed_2023.csv')"
   ]
  },
  {
   "cell_type": "code",
   "execution_count": 9,
   "metadata": {
    "id": "gzSxKMlk8_yx"
   },
   "outputs": [],
   "source": [
    "injury_report_cleaned = injury_report.copy()\n",
    "\n",
    "injury_report_cleaned.dropna(subset=['Date', 'Team'], inplace=True)\n",
    "\n",
    "injury_report_cleaned = injury_report_cleaned.fillna({'Acquired': 'Unknown', 'Relinquished': 'Unknown'})\n",
    "\n",
    "injury_report_cleaned['Injury Type'] = injury_report_cleaned['Notes'].str.extract(r'with (.*?)(?:\\srecovering|\\.|$)')\n",
    "\n",
    "injury_report_cleaned['Off IL Date'] = injury_report_cleaned['Notes'].str.extract(r'returning on (\\d{4}-\\d{2}-\\d{2})')\n",
    "\n",
    "pre_covid_logs_cleaned = []\n",
    "post_covid_logs_cleaned = []\n",
    "\n",
    "for game_log in [game_log_2017, game_log_2018, game_log_2019]:\n",
    "    game_log_cleaned = game_log.copy()\n",
    "\n",
    "\n",
    "    columns_with_urls = ['Date', 'Opp', 'Win', 'Loss', 'Save', 'Unnamed: 2']\n",
    "    for col in columns_with_urls:\n",
    "        if col in game_log_cleaned.columns:\n",
    "            game_log_cleaned[col] = game_log_cleaned[col].str.replace(r'\\(.*?\\)', '', regex=True).str.strip()\n",
    "\n",
    "    columns_to_drop = ['Unnamed: 2', 'Unnamed: 4', 'Orig. Scheduled']\n",
    "    game_log_cleaned.drop(columns=[col for col in columns_to_drop if col in game_log_cleaned.columns], inplace=True)\n",
    "\n",
    "    game_log_cleaned['Streak'] = game_log_cleaned['Streak'].str.replace(r'[^+-]', '', regex=True)\n",
    "\n",
    "    game_log_cleaned = game_log_cleaned.fillna({'W/L': 'Unknown', 'R': 0, 'RA': 0, 'Attendance': 0})\n",
    "\n",
    "    pre_covid_logs_cleaned.append(game_log_cleaned)\n",
    "\n",
    "for game_log in [game_log_2021, game_log_2022, game_log_2023]:\n",
    "    game_log_cleaned = game_log.copy()\n",
    "\n",
    "    columns_with_urls = ['Date', 'Opp', 'Win', 'Loss', 'Save', 'Unnamed: 2']\n",
    "    for col in columns_with_urls:\n",
    "        if col in game_log_cleaned.columns:\n",
    "            game_log_cleaned[col] = game_log_cleaned[col].str.replace(r'\\(.*?\\)', '', regex=True).str.strip()\n",
    "\n",
    "    columns_to_drop = ['Unnamed: 2', 'Unnamed: 4', 'Orig. Scheduled']\n",
    "    game_log_cleaned.drop(columns=[col for col in columns_to_drop if col in game_log_cleaned.columns], inplace=True)\n",
    "\n",
    "    game_log_cleaned['Streak'] = game_log_cleaned['Streak'].str.replace(r'[^+-]', '', regex=True)\n",
    "\n",
    "    game_log_cleaned = game_log_cleaned.fillna({'W/L': 'Unknown', 'R': 0, 'RA': 0, 'Attendance': 0})\n",
    "\n",
    "    post_covid_logs_cleaned.append(game_log_cleaned)\n",
    "\n",
    "combined_pre_covid_logs = pd.concat(pre_covid_logs_cleaned, ignore_index=True)\n",
    "combined_post_covid_logs = pd.concat(post_covid_logs_cleaned, ignore_index=True)\n"
   ]
  },
  {
   "cell_type": "code",
   "execution_count": 10,
   "metadata": {
    "colab": {
     "base_uri": "https://localhost:8080/"
    },
    "id": "4DXC-UyB8_yx",
    "outputId": "f3cca4a1-15df-433b-e117-9439c26f9715"
   },
   "outputs": [
    {
     "name": "stdout",
     "output_type": "stream",
     "text": [
      "Cleaned Injury Report Dataset:\n",
      "         Date       Team Acquired      Relinquished  \\\n",
      "0  2017-02-14     Braves  Unknown  • Jacob Lindgren   \n",
      "1  2017-02-14  Nationals  Unknown   • Aaron Barrett   \n",
      "2  2017-02-14    Rangers  Unknown    • Jake Diekman   \n",
      "3  2017-02-14    Rangers  Unknown  • Prince Fielder   \n",
      "4  2017-02-14       Reds  Unknown    • Homer Bailey   \n",
      "\n",
      "                                               Notes              Injury Type  \\\n",
      "0  placed on 60-day DL recovering from ligament r...                      NaN   \n",
      "1  placed on 60-day DL recovering from ligament r...                      NaN   \n",
      "2  placed on 60-day DL recovering from surgery to...                      NaN   \n",
      "3   placed on 60-day DL with herniated discs in neck  herniated discs in neck   \n",
      "4  transferred to 60-day DL recovering from ligam...                      NaN   \n",
      "\n",
      "  Off IL Date  \n",
      "0         NaN  \n",
      "1         NaN  \n",
      "2         NaN  \n",
      "3         NaN  \n",
      "4         NaN  \n",
      "\n",
      "Combined Pre-COVID Game Logs Dataset (2017-2019):\n",
      "  Gm#        Date   Tm  Opp   W/L  R RA  Inn  W-L Rank      GB         Win  \\\n",
      "0   1  2017/04/02  ARI  SFG  W-wo  6  5  NaN  1-0    1  up 0.5      Rodney   \n",
      "1   2  2017/04/04  ARI  SFG     L  4  8  NaN  1-1    2       1       Cueto   \n",
      "2   3  2017/04/05  ARI  SFG     W  8  6  NaN  2-1    1    Tied      Walker   \n",
      "3   4  2017/04/06  ARI  SFG     W  9  3  NaN  3-1    1    Tied  De La Rosa   \n",
      "4   5  2017/04/07  ARI  CLE     W  7  3  NaN  4-1    1    Tied      Miller   \n",
      "\n",
      "         Loss    Save  Time D/N Attendance   cLI Streak  \n",
      "0    Melancon     NaN  3:23   D     49,016  1.06      +  \n",
      "1      Corbin     NaN  3:26   N     19,378  1.12      -  \n",
      "2       Moore  Rodney  3:15   N     14,675  1.03      +  \n",
      "3  Samardzija     NaN  3:00   N     15,308   1.1     ++  \n",
      "4      Tomlin     NaN  3:19   N     22,443     1    +++  \n",
      "\n",
      "Combined Post-COVID Game Logs Dataset (2021-2023):\n",
      "  Gm#        Date   Tm  Opp W/L   R RA  Inn  W-L Rank   GB       Win     Loss  \\\n",
      "0   1  2021/04/01  ARI  SDP   L   7  8  NaN  0-1    3    1     Pagán    Young   \n",
      "1   2  2021/04/02  ARI  SDP   L   2  4  NaN  0-2    5    2     Pagán    Kelly   \n",
      "2   3  2021/04/03  ARI  SDP   L   0  7  NaN  0-3    5    3  Musgrove    Smith   \n",
      "3   4  2021/04/04  ARI  SDP   W   3  1  NaN  1-3    4    2   Widener  Paddack   \n",
      "4   5  2021/04/06  ARI  COL   W  10  8   13  2-3    3  2.5   Peacock   Bowden   \n",
      "\n",
      "       Save  Time D/N Attendance   cLI Streak  \n",
      "0  Melancon  3:26   D     10,350  1.09      -  \n",
      "1  Melancon  3:53   N     10,350  1.04     --  \n",
      "2  Weathers  2:58   N     10,350  0.95    ---  \n",
      "3  Devenski  3:19   D     10,350  0.94      +  \n",
      "4       NaN  4:29   N     10,240  0.93     ++  \n"
     ]
    }
   ],
   "source": [
    "print(\"Cleaned Injury Report Dataset:\")\n",
    "print(injury_report_cleaned.head())\n",
    "print(\"\\nCombined Pre-COVID Game Logs Dataset (2017-2019):\")\n",
    "print(combined_pre_covid_logs.head())\n",
    "print(\"\\nCombined Post-COVID Game Logs Dataset (2021-2023):\")\n",
    "print(combined_post_covid_logs.head())"
   ]
  },
  {
   "cell_type": "markdown",
   "metadata": {
    "id": "ZF5zvAxJ8_yx"
   },
   "source": [
    "## Ballpark Factors"
   ]
  },
  {
   "cell_type": "markdown",
   "metadata": {
    "id": "2_cC6qPD8_yx"
   },
   "source": [
    "Ballpark factors are data provided by Google Cloud which show the biasness of the ballpark. Google Cloud explains, \"Statcast park effects show the observed effect of each displayed stat based on the events in the selected park. Each number is set so that “100” is average for that metric, and the park-specific number is generated by looking at each batter and pitcher, controlled by handedness, and comparing the frequency of that metric in the selected park compared to the performance of those players in other parks.\n",
    "For example, the 135 HR mark for 2018-2020 at Great American Ball Park does not mean the Reds hit 35% more home runs at their home park. It means for batters and pitchers who played both at GABP and elsewhere, 35% more home runs were observed at GABP.\""
   ]
  },
  {
   "cell_type": "code",
   "execution_count": 11,
   "metadata": {
    "id": "9fUFnC468_yx"
   },
   "outputs": [],
   "source": [
    "rawdata_dic = {}\n",
    "for year in ['2017-2019','2021-2023']:\n",
    "    for dn in ['day','night']:\n",
    "        data_name = f\"park_factor_{year}_{dn}\"\n",
    "        with open(f\"data/park_factor_{year}_{dn}.html\",\"r\") as f:\n",
    "            rawdata_dic[data_name] = f.read()"
   ]
  },
  {
   "cell_type": "code",
   "execution_count": null,
   "metadata": {
    "id": "bqtnFqTf8_yx"
   },
   "outputs": [],
   "source": [
    "column_list = []\n",
    "row_dict = {}\n",
    "for key,value in rawdata_dic.items():\n",
    "    soup = BeautifulSoup(value, \"html.parser\")\n",
    "    columns = soup.find(class_ = \"tr-component-row\")\n",
    "    columns = columns.find_all('th')\n",
    "    for column in columns:\n",
    "        column_list.append(column.get_text(strip=True))\n",
    "    rows = soup.find_all(class_ = 'default-table-row')\n",
    "    row_list = []\n",
    "    for row in rows:\n",
    "        lst = []\n",
    "        data = row.find_all('td')\n",
    "        for datum in data:\n",
    "            lst.append(datum.get_text(strip=True))\n",
    "        row_list.append(lst)\n",
    "    row_dict[key] = row_list"
   ]
  },
  {
   "cell_type": "code",
   "execution_count": 12,
   "metadata": {
    "id": "JXB7mBIa8_yx"
   },
   "outputs": [
    {
     "ename": "NameError",
     "evalue": "name 'column_list' is not defined",
     "output_type": "error",
     "traceback": [
      "\u001b[1;31m---------------------------------------------------------------------------\u001b[0m",
      "\u001b[1;31mNameError\u001b[0m                                 Traceback (most recent call last)",
      "Cell \u001b[1;32mIn[12], line 1\u001b[0m\n\u001b[1;32m----> 1\u001b[0m column_list \u001b[38;5;241m=\u001b[39m \u001b[38;5;28mlist\u001b[39m(\u001b[38;5;28mdict\u001b[39m\u001b[38;5;241m.\u001b[39mfromkeys(column_list))\n",
      "\u001b[1;31mNameError\u001b[0m: name 'column_list' is not defined"
     ]
    }
   ],
   "source": [
    "column_list = list(dict.fromkeys(column_list))"
   ]
  },
  {
   "cell_type": "code",
   "execution_count": null,
   "metadata": {
    "id": "SMkOaerA8_yx"
   },
   "outputs": [],
   "source": [
    "df_dict = {}\n",
    "for key,value in row_dict.items():\n",
    "    df_dict[key] = pd.DataFrame(columns = column_list, data= value)"
   ]
  },
  {
   "cell_type": "code",
   "execution_count": null,
   "metadata": {
    "id": "qSIWhQYy8_yx"
   },
   "outputs": [],
   "source": [
    "park_factor_2017_2019_day = df_dict['park_factor_2017-2019_day']\n",
    "park_factor_2017_2019_night = df_dict['park_factor_2017-2019_night']\n",
    "park_factor_2021_2023_day = df_dict['park_factor_2021-2023_day']\n",
    "park_factor_2021_2023_night = df_dict['park_factor_2021-2023_night']"
   ]
  },
  {
   "cell_type": "markdown",
   "metadata": {
    "id": "6cu5uvfS8_yy"
   },
   "source": [
    "# Results\n",
    "\n",
    "## Exploratory Data Analysis\n",
    "\n",
    "Carry out whatever EDA you need to for your project.  Because every project will be different we can't really give you much of a template at this point. But please make sure you describe the what and why in text here as well as providing interpretation of results and context."
   ]
  },
  {
   "cell_type": "markdown",
   "metadata": {
    "id": "JTiNXXep8_yy"
   },
   "source": [
    "### Section 1 of EDA - please give it a better title than this\n",
    "\n",
    "Some more words and stuff.  Remember notebooks work best if you interleave the code that generates a result with properly annotate figures and text that puts these results into context."
   ]
  },
  {
   "cell_type": "code",
   "execution_count": 22,
   "metadata": {},
   "outputs": [
    {
     "data": {
      "image/png": "[encoded data removed]",
      "text/plain": [
       "<Figure size 1200x600 with 1 Axes>"
      ]
     },
     "metadata": {},
     "output_type": "display_data"
    },
    {
     "data": {
      "image/png": "[encoded data removed]",
      "text/plain": [
       "<Figure size 1200x600 with 1 Axes>"
      ]
     },
     "metadata": {},
     "output_type": "display_data"
    }
   ],
   "source": [
    "# Read the injury report data\n",
    "file_path = 'C:\\\\github\\\\Group071-FA24\\\\data\\\\Injury_report.csv'\n",
    "injury_df = pd.read_csv(file_path)\n",
    "\n",
    "# Ensure 'Date' column exists and convert it to datetime format, then extract the year\n",
    "if 'Date' in injury_df.columns:\n",
    "    injury_df['Date'] = pd.to_datetime(injury_df['Date'], errors='coerce')\n",
    "    injury_df['Year'] = injury_df['Date'].dt.year\n",
    "else:\n",
    "    print(\"The CSV file must contain a 'Date' column.\")\n",
    "\n",
    "# Check if 'Team' column exists\n",
    "if 'Team' in injury_df.columns:\n",
    "    # Calculate the number of injuries for each team for the years 2017-2019\n",
    "    injury_2017_2019 = injury_df[(injury_df['Year'] >= 2017) & (injury_df['Year'] <= 2019)]\n",
    "    team_injury_counts_2017_2019 = injury_2017_2019['Team'].value_counts()\n",
    "\n",
    "    # Calculate the number of injuries for each team for the years 2020-2023\n",
    "    injury_2020_2023 = injury_df[(injury_df['Year'] >= 2020) & (injury_df['Year'] <= 2023)]\n",
    "    team_injury_counts_2020_2023 = injury_2020_2023['Team'].value_counts()\n",
    "\n",
    "    # Plot the frequency of injuries for each team for 2017-2019\n",
    "    plt.figure(figsize=(12, 6))\n",
    "    plt.bar(team_injury_counts_2017_2019.index, team_injury_counts_2017_2019.values, color='skyblue')\n",
    "    plt.xlabel('Team')\n",
    "    plt.ylabel('Number of Injuries')\n",
    "    plt.title('Frequency of Injuries by Team (2017-2019)')\n",
    "    plt.xticks(rotation=90)\n",
    "\n",
    "    # Highlight the team with the least number of injuries\n",
    "    team_with_least_injuries_2017_2019 = team_injury_counts_2017_2019.idxmin()\n",
    "    least_injury_count_2017_2019 = team_injury_counts_2017_2019.min()\n",
    "    plt.bar(team_with_least_injuries_2017_2019, least_injury_count_2017_2019, color='red', label=f'Least Injuries ({team_with_least_injuries_2017_2019})')\n",
    "\n",
    "    plt.legend()\n",
    "    plt.tight_layout()\n",
    "    plt.show()\n",
    "\n",
    "    # Plot the frequency of injuries for each team for 2020-2023\n",
    "    plt.figure(figsize=(12, 6))\n",
    "    plt.bar(team_injury_counts_2020_2023.index, team_injury_counts_2020_2023.values, color='orange')\n",
    "    plt.xlabel('Team')\n",
    "    plt.ylabel('Number of Injuries')\n",
    "    plt.title('Frequency of Injuries by Team (2020-2023)')\n",
    "    plt.xticks(rotation=90)\n",
    "\n",
    "    # Highlight the team with the least number of injuries\n",
    "    team_with_least_injuries_2020_2023 = team_injury_counts_2020_2023.idxmin()\n",
    "    least_injury_count_2020_2023 = team_injury_counts_2020_2023.min()\n",
    "    plt.bar(team_with_least_injuries_2020_2023, least_injury_count_2020_2023, color='red', label=f'Least Injuries ({team_with_least_injuries_2020_2023})')\n",
    "\n",
    "    plt.legend()\n",
    "    plt.tight_layout()\n",
    "    plt.show()\n",
    "\n",
    "else:\n",
    "    print(\"The CSV file must contain a 'Team' column.\")"
   ]
  },
  {
   "cell_type": "code",
   "execution_count": 24,
   "metadata": {},
   "outputs": [
    {
     "name": "stdout",
     "output_type": "stream",
     "text": [
      "   Year  Total Injury Count\n",
      "0  2017                1564\n",
      "1  2018                1656\n",
      "2  2019                1639\n",
      "3  2021                2699\n",
      "4  2022                2190\n",
      "5  2023                1934\n"
     ]
    }
   ],
   "source": [
    "if 'Date' in injury_df.columns:\n",
    "    injury_df['Date'] = pd.to_datetime(injury_df['Date'], errors='coerce')\n",
    "    injury_df['Year'] = injury_df['Date'].dt.year\n",
    "else:\n",
    "    print(\"The CSV file must contain a 'Date' column.\")\n",
    "\n",
    "# Calculate the total number of injuries for each year\n",
    "if 'Year' in injury_df.columns:\n",
    "    yearly_injury_count = injury_df.groupby('Year').size().reset_index(name='Total Injury Count')\n",
    "\n",
    "    # Print the total number of injuries for each year\n",
    "    print(yearly_injury_count)\n",
    "else:\n",
    "    print(\"The CSV file must contain a 'Year' column.\")"
   ]
  },
  {
   "cell_type": "code",
   "execution_count": 26,
   "metadata": {},
   "outputs": [
    {
     "name": "stdout",
     "output_type": "stream",
     "text": [
      "      Year  Visiting Team Score  Home Team Score\n",
      "0     2017                    1                5\n",
      "1     2017                    4                5\n",
      "2     2017                    9               10\n",
      "3     2017                    5                6\n",
      "4     2017                    8                3\n",
      "...    ...                  ...              ...\n",
      "7284  2023                    6                0\n",
      "7285  2023                    0                6\n",
      "7286  2023                    4               11\n",
      "7287  2023                    7                5\n",
      "7288  2023                   12                8\n",
      "\n",
      "[7289 rows x 3 columns]\n",
      "   Year  total_games  home_wins  visiting_wins  Home Win Rate  \\\n",
      "0  2017         1215        653            562       0.537449   \n",
      "1  2018         1215        644            571       0.530041   \n",
      "2  2019         1214        620            594       0.510708   \n",
      "3  2021         1215        649            566       0.534156   \n",
      "4  2022         1215        651            564       0.535802   \n",
      "5  2023         1215        614            601       0.505350   \n",
      "\n",
      "   Visiting Win Rate  \n",
      "0           0.462551  \n",
      "1           0.469959  \n",
      "2           0.489292  \n",
      "3           0.465844  \n",
      "4           0.464198  \n",
      "5           0.494650  \n"
     ]
    }
   ],
   "source": [
    "# Create an empty list to store data frames for each year\n",
    "dfs = []\n",
    "\n",
    "# Iterate through the yearly data dictionaries, convert them to data frames, and add to the list\n",
    "for year, data in [('2017', data_2017), ('2018', data_2018), ('2019', data_2019), ('2021', data_2021), ('2022', data_2022), ('2023', data_2023)]:\n",
    "    # Extract visiting team score and home team score\n",
    "    visiting_scores = []\n",
    "    home_scores = []\n",
    "\n",
    "    # Extract data for each year\n",
    "    for entry in data['line']:\n",
    "        if entry[0] == '0':  # Visiting team\n",
    "            visiting_score = 0\n",
    "            visiting_score_list = entry[2:].split(\",\")  # Start from the 2nd character (0th indicates visiting/home team)\n",
    "            for score in visiting_score_list:\n",
    "                visiting_score += int(score)\n",
    "            visiting_scores.append(visiting_score)\n",
    "        else:  # Home team\n",
    "            home_score = 0\n",
    "            home_score_list = entry[2:].split(\",\")\n",
    "            for score in home_score_list:\n",
    "                home_score += int(score)\n",
    "            home_scores.append(home_score)\n",
    "\n",
    "    # Ensure both lists have the same length\n",
    "    min_length = min(len(visiting_scores), len(home_scores))\n",
    "    visiting_scores = visiting_scores[:min_length]\n",
    "    home_scores = home_scores[:min_length]\n",
    "\n",
    "    # Create a data frame\n",
    "    df = pd.DataFrame({\n",
    "        'Year': [year] * min_length,\n",
    "        'Visiting Team Score': visiting_scores,\n",
    "        'Home Team Score': home_scores\n",
    "    })\n",
    "\n",
    "    # Add to the list of data frames\n",
    "    dfs.append(df)\n",
    "\n",
    "# Concatenate all yearly data frames into one combined data frame\n",
    "combined_df = pd.concat(dfs, ignore_index=True)\n",
    "\n",
    "# Print the combined data frame\n",
    "print(combined_df)\n",
    "\n",
    "# Add a column to determine the winner\n",
    "combined_df['Home Win'] = combined_df['Home Team Score'] > combined_df['Visiting Team Score']\n",
    "combined_df['Visiting Win'] = combined_df['Visiting Team Score'] > combined_df['Home Team Score']\n",
    "\n",
    "# Calculate the number of wins and total games for each year\n",
    "yearly_stats = combined_df.groupby('Year').agg(\n",
    "    total_games=('Home Win', 'size'),\n",
    "    home_wins=('Home Win', 'sum'),\n",
    "    visiting_wins=('Visiting Win', 'sum')\n",
    ").reset_index()\n",
    "\n",
    "# Calculate home and visiting win rates\n",
    "yearly_stats['Home Win Rate'] = yearly_stats['home_wins'] / yearly_stats['total_games']\n",
    "yearly_stats['Visiting Win Rate'] = yearly_stats['visiting_wins'] / yearly_stats['total_games']\n",
    "\n",
    "# Print win rates for each year\n",
    "print(yearly_stats)"
   ]
  },
  {
   "cell_type": "code",
   "execution_count": 28,
   "metadata": {},
   "outputs": [
    {
     "name": "stdout",
     "output_type": "stream",
     "text": [
      "   Year  total_games  home_wins  visiting_wins  Home Win Rate  \\\n",
      "0  2017         1215        653            562       0.537449   \n",
      "1  2018         1215        644            571       0.530041   \n",
      "2  2019         1214        620            594       0.510708   \n",
      "3  2021         1215        649            566       0.534156   \n",
      "4  2022         1215        651            564       0.535802   \n",
      "5  2023         1215        614            601       0.505350   \n",
      "\n",
      "   Visiting Win Rate  Total Injury Count  \n",
      "0           0.462551                1564  \n",
      "1           0.469959                1656  \n",
      "2           0.489292                1639  \n",
      "3           0.465844                2699  \n",
      "4           0.464198                2190  \n",
      "5           0.494650                1934  \n"
     ]
    },
    {
     "data": {
      "image/png": "[encoded data removed]",
      "text/plain": [
       "<Figure size 1200x600 with 1 Axes>"
      ]
     },
     "metadata": {},
     "output_type": "display_data"
    },
    {
     "data": {
      "image/png": "[encoded data removed]",
      "text/plain": [
       "<Figure size 1200x600 with 1 Axes>"
      ]
     },
     "metadata": {},
     "output_type": "display_data"
    }
   ],
   "source": [
    "# Convert 'Year' columns to integers for merging\n",
    "yearly_stats['Year'] = yearly_stats['Year'].astype(int)\n",
    "yearly_injury_count['Year'] = yearly_injury_count['Year'].astype(int)\n",
    "\n",
    "# Merge yearly_stats and yearly_injury_count\n",
    "combined_stats = pd.merge(yearly_stats, yearly_injury_count, on='Year', how='inner')\n",
    "\n",
    "# Print the merged dataframe to check\n",
    "print(combined_stats)\n",
    "\n",
    "# Plot scatter plot: Total Injury Count vs Home Win Rate\n",
    "plt.figure(figsize=(12, 6))\n",
    "plt.scatter(combined_stats['Total Injury Count'], combined_stats['Home Win Rate'], color='blue', alpha=0.6)\n",
    "plt.xlabel('Total Injury Count')\n",
    "plt.ylabel('Home Win Rate')\n",
    "plt.title('Total Injury Count vs Home Win Rate (2017-2023)')\n",
    "plt.grid(True)\n",
    "plt.tight_layout()\n",
    "plt.show()\n",
    "\n",
    "# Plot scatter plot: Total Injury Count vs Visiting Win Rate\n",
    "plt.figure(figsize=(12, 6))\n",
    "plt.scatter(combined_stats['Total Injury Count'], combined_stats['Visiting Win Rate'], color='green', alpha=0.6)\n",
    "plt.xlabel('Total Injury Count')\n",
    "plt.ylabel('Visiting Win Rate')\n",
    "plt.title('Total Injury Count vs Visiting Win Rate (2017-2023)')\n",
    "plt.grid(True)\n",
    "plt.tight_layout()\n",
    "plt.show()"
   ]
  },
  {
   "cell_type": "code",
   "execution_count": null,
   "metadata": {
    "id": "WMFyMYyN8_yy"
   },
   "outputs": [],
   "source": [
    "## YOUR CODE HERE\n",
    "## FEEL FREE TO ADD MULTIPLE CELLS PER SECTION"
   ]
  },
  {
   "cell_type": "markdown",
   "metadata": {
    "id": "08v3z-Ay8_yy"
   },
   "source": [
    "### Section 2 of EDA if you need it  - please give it a better title than this\n",
    "\n",
    "Some more words and stuff.  Remember notebooks work best if you interleave the code that generates a result with properly annotate figures and text that puts these results into context."
   ]
  },
  {
   "cell_type": "code",
   "execution_count": null,
   "metadata": {
    "id": "b2w3kBgG8_yz"
   },
   "outputs": [],
   "source": [
    "## YOUR CODE HERE\n",
    "## FEEL FREE TO ADD MULTIPLE CELLS PER SECTION"
   ]
  },
  {
   "cell_type": "markdown",
   "metadata": {
    "id": "Ws1Lom0m8_yz"
   },
   "source": [
    "# Ethics & Privacy"
   ]
  },
  {
   "cell_type": "markdown",
   "metadata": {
    "id": "IyErL8no8_yz"
   },
   "source": [
    "- The primary data sources would include available MLB statistics (from MLB or 3rd-party), player performance metrics, and environmental factors like weather and travel distances. While this form of data is publicly accessible, there could be some bias in the overrepresentation of certain teams, seasons, or players. The privacy issues would be minimal, as this data involves professional athletes and publicly held games; therefore, much of the statistics and game information would be in the public domain. Terms of use issues would be that some data sources might have restrictions on how their data can be used, as it might violate some of their terms of service if not done properly.\n",
    "\n",
    "- There are potential biases, like sampling biases, if the dataset doesn't cover all the teams equally or doesn't include certain seasons or games. Different methods of data collection would create some inaccuracies, like, for example, the weather. Weather data collected from far from the station might not accurately reflect the weather conditions of the game. Also, with the distribution of fans, more popular teams would have a larger market size and budget. Allowing these teams to afford better facilities, hire better players, trainers, and travel accommodations.\n",
    "\n",
    "- To address the confounding variables and any biases they might introduce, we plan to identify and include variables such as weather conditions, player fatigue and injury, team dynamics, and historical performance to control their impact on the analysis. Aligning and keeping our data collection procedures the same across the board in order to minimize any inconsistencies, as well as sensitivity analyses, will further allow us to see if our results change with different assumptions about the confounding variables. In order for organization, we would document and report our procedures with each other and on the notebook; this will ensure transparency on how these confounding variables are being handled and would assist us in discussing their potential impact for our end result.\n",
    "\n",
    "- Before analysis, perform a proper check on all datasets to see if we missed any values, outliers, or inconsistencies. Ensure that all teams, players, team compositions, and seasons are properly represented in the data. Sourcing data from credible and reliable sources to ensure accurate data. During analysis, we will monitor for any signs of bias, like skewness and adjust any of our models to account for any biases we see or confounding variables. Afterwards, we would cross-reference our findings with our external data and studies to confirm our findings.\n",
    "\n",
    "- If this data were to be used beyond its intended scope, it might violate some sources’ terms of service, which would lead to some legal and ethical issues. If data steers towards the need to include players’ health, some HIPAA violations would be possible. When analyzing fan attitudes, we need to be careful of perpetuating stereotypes or offending certain groups. We will be using appropriate methods to account for any missing information, gathered properly through data sources that we’ve carefully read and followed their terms of service. If there are restrictions, we will look for any alternative data sources that are open to the public and free to use. When comparing our data, to ensure its accuracy, we use reliable sources to check, as well as thoroughly clean the data to fix any errors or inconsistencies. Present our findings without biases and openly discuss any limitations or potential biases in our studies.\n",
    "\n",
    "\n"
   ]
  },
  {
   "cell_type": "markdown",
   "metadata": {
    "id": "0aHoGVo98_yz"
   },
   "source": [
    "# Team Expectations"
   ]
  },
  {
   "cell_type": "markdown",
   "metadata": {
    "id": "NJjKagh88_yz"
   },
   "source": [
    "* Commitment to Timely Contribution:\n",
    "Everyone should adhere to deadlines set by the group to ensure that work progresses smoothly.\n",
    "If someone is unable to complete a task on time, they should inform the team as soon as possible so that adjustments can be made.\n",
    "\n",
    "* Communication Protocols:\n",
    "The team will primarily communicate through  Discord.\n",
    "We will meet weekly on Monday at Geisel to assign new tasks, and to address any concerns.\n",
    "Everyone in the group are expected to check the Discord daily. If there's a post on Discord, at least a discord-emoji-reaction is expected to make sure everyone read the post. Constructive responses are appreciated.\n",
    "\n",
    "* Respectful Conflict Resolution:\n",
    "If conflicts arise, the team will discuss them during scheduled meetings calmly and respectfully. The aim will always be to understand one another’s perspectives and find a solution that works for everyone.\n",
    "\n",
    "* Task Delegation and Roles:\n",
    "Tasks will be assigned based on each member and everyone is encouraged to participate in decision-making to distribute responsibilities equitably.\n",
    "Team members are encouraged to assist each other when someone needs help. Collaboration is key to the project’s success.\n",
    "\n",
    "* Work Quality and Effort:\n",
    "Everyone should feel comfortable offering constructive feedback and asking questions whenever clarification is needed.\n",
    "\n",
    "* Accountability:\n",
    "Each member will be responsible for the tasks they are assigned. If unexpected situations arise, make sure to mention it on Discord as soon as possible. Remember that everyone in the group are UCSD students and are busy having their assignments/exams as well as you are.\n",
    "\n",
    "* Inclusiveness and Respect:\n",
    "All opinions and ideas will be treated with respect. Contributions from every team member are valuable, and everyone will be encouraged to speak up during discussions."
   ]
  },
  {
   "cell_type": "markdown",
   "metadata": {
    "id": "7ZNiun9x8_yz"
   },
   "source": [
    "# Project Timeline Proposal"
   ]
  },
  {
   "cell_type": "markdown",
   "metadata": {
    "id": "7ea7ol3M8_y0"
   },
   "source": [
    "| Meeting Date  | Meeting Time| Completed Before Meeting  | Discuss at Meeting |\n",
    "|---|---|---|---|\n",
    "| Every Monday  |  12 PM | Read the progress made during Last Week  | One-hour weekly meeting at Geisel to share the progress and plans |\n",
    "| 10/30 |  12 PM |  Read what we need for project proposal | Discuss and make progress to submit the project proposal. |\n",
    "| 10/30  | Deadline  |  Project Proposal | Finish and push the final data to Github by the end of the day  |\n",
    "|11/4| 12 PM | Read the DataCheckPoint file to understand what we need for the submission | Discuss who will do which part and make the schedule concrete. |\n",
    "| 11/11 | 12 PM | Read the progress made by the group until Sunday | Discuss if there's any problem and make sure we can submit them on Wednesday. |\n",
    "| 11/13  | Deadline  | Checkpoint #1: Data | Finish and push the final data to Github by the end of the day  |\n",
    "| 11/18 | 12 PM | Read the progress made by the group until Sunday | Discuss who will do which part and make the schedule concrete. |\n",
    "| 11/25 | 12 PM | Read the progress made by the group until Sunday | Discuss if there's any problem and make sure we can submit them on Wednesday. |\n",
    "| 11/27  | Deadline  | Checkpoint #2: EDA | Finish and push the final data to Github by the end of the day |\n",
    "| 12/11 | Deadline | Final submission | |"
   ]
  }
 ],
 "metadata": {
  "colab": {
   "provenance": []
  },
  "kernelspec": {
   "display_name": "base",
   "language": "python",
   "name": "python3"
  },
  "language_info": {
   "codemirror_mode": {
    "name": "ipython",
    "version": 3
   },
   "file_extension": ".py",
   "mimetype": "text/x-python",
   "name": "python",
   "nbconvert_exporter": "python",
   "pygments_lexer": "ipython3",
   "version": "3.12.4"
  }
 },
 "nbformat": 4,
 "nbformat_minor": 0
}
