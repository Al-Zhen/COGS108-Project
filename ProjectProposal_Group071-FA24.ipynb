{
 "cells": [
  {
   "cell_type": "markdown",
   "metadata": {
    "id": "Td85hHpKysUn"
   },
   "source": [
    "# COGS 108 - Project Proposal"
   ]
  },
  {
   "cell_type": "markdown",
   "metadata": {
    "id": "Udvrt9SlysUo"
   },
   "source": [
    "# Names\n",
    "\n",
    "- Xinheng Wang\n",
    "- Takafumi Matsui\n",
    "- Alexander Zhen\n",
    "- Athena Wu\n",
    "- Chaowen Cao"
   ]
  },
  {
   "cell_type": "markdown",
   "metadata": {
    "id": "7qivVTPnysUp"
   },
   "source": [
    "# Research Question"
   ]
  },
  {
   "cell_type": "markdown",
   "metadata": {
    "id": "Le-tdJSpysUp"
   },
   "source": [
    "- To what extent does home field advantage affect the winning rate of MLB teams, disregarding other factors not related to the home field, and how does this effect vary across different teams?\n",
    "\n",
    "- Variables:\n",
    "\n",
    "    *   Win Rate\n",
    "    *   Players' Metrics\n",
    "    *   Field Factor\n",
    "    *   Traveling Time\n",
    "    *   Weather Difference\n",
    "    *   Jet Lag\n",
    "    *   Day/Night\n",
    "    *   (Fan's attitudes)\n",
    "    *   Are the players doing well in the recent games\n",
    "\n",
    "\n",
    "\n"
   ]
  },
  {
   "cell_type": "markdown",
   "metadata": {
    "id": "FhNV41BjysUp"
   },
   "source": [
    "## Background and Prior Work"
   ]
  },
  {
   "cell_type": "markdown",
   "metadata": {
    "id": "M21JrQdMysUp"
   },
   "source": [
    "  In sports, the concept of home advantage refers to the benefit that the home team is said to have over the visiting team. For instance, if a game takes place in city A, team A from city A is said to have a home advantage when playing against team B from city B. Some believe that home teams have advantages over visiting teams in both the psychological and the physical aspect. Due to physical proximity, audiences of the game are more likely to be fans of the home team.Physically, the visiting team often faces challenges such as adjusting to different time zones, unfamiliar environments, and unique stadium conditions. These factors are believed to contribute to the advantages for home teams, potentially impacting the game’s outcome.\n",
    "\n",
    "  In a study done by Barry and Barsky<a name=\"cite_ref-1\"></a>[<sup>1</sup>](#cite_note-1), it is shown that home game advantage varies across different sports. Hockey and basketball shows the most significant differences, meaning that the home team has the most significant advantage. On the other hand, home teams of football games has a smaller advantage while home teams of baseball has the least advantage over the visiting team compared to other sports. Furthermore, in this study, the authors reached the conclusion that other factors, such as audience support, play a role in the effectiveness of home game advantages.\n",
    "\n",
    "  In another study done by Harville and Smith<a name=\"cite_ref-2\"></a>[<sup>2</sup>](#cite_note-2), the effects of home game advantages on college basketball teams were analyzed. The authors concluded that the estimated benefit of playing at home is about 4.68 points, and this advantage is approximately the same across different teams.\n",
    "\n",
    "  Other studies have shown the effects of home game advantages across different sports. For example, in the study done by Nevill et al.<a name=\"cite_ref-3\"></a>[<sup>3</sup>](#cite_note-3), major team sports are shown to be positively impacted by the home game advantage. In American football, of the 2592 games analyzed, the home winning percentage is 57.3%. On the other hand, in ice hockey, the home winning percentage is 59.5%. Soccer shows an even higher home winning rate of 63.9%.\n",
    "\n",
    "  In a blog post “Is there a home-game advantage in professional sport?”<a name=\"cite_ref-4\"></a>[<sup>4</sup>](#cite_note-4), written by Peter Hersh,  the home-game advantages of MLB (Major League Baseball), NBA (National Basketball Association), NFL (National Football League), and NHL (National Hockey League) over the past decade are analyzed. Based on the analysis, all 4 sports show an advantage when the games are played at home. Overall, MLB shows the smallest advantage compared to other sports. During the year of the pandemic, however, MLB shows the greatest home advantage compared to the other team sports.\n",
    "\n",
    "1. <a name=\"cite_note-1\"></a> [^](#cite_ref-1) Schwartz, Barry, and Stephen F. Barsky. “The Home Advantage.” Social Forces 55, no. 3 (1977): 641–61. https://www.jstor.org/stable/2577461\n",
    "\n",
    "2. <a name=\"cite_note-2\"></a> [^](#cite_ref-2) Harville, David A., and Michael H. Smith. “The Home-Court Advantage: How Large Is It, and Does It Vary from Team to Team?” The American Statistician 48, no. 1 (1994): 22–28. https://www.jstor.org/stable/2685080\n",
    "\n",
    "3. <a name=\"cite_note-3\"></a> [^](#cite_ref-3) Nevill, A.M., Holder, R.L. Home Advantage in Sport. Sports Med 28, 221–236 (1999). https://doi.org/10.2165/00007256-199928040-00001\n",
    "\n",
    "4. <a name=\"cite_note-4\"></a> [^](#cite_ref-4) Hersh P. Is there a home-game advantage in professional sports? (June, 2023).https://community.jmp.com/t5/JMP-Blog/Is-there-a-home-game-advantage-in-professional-sports/ba-p/641566\n"
   ]
  },
  {
   "cell_type": "markdown",
   "metadata": {
    "id": "2V1WmwWcysUq"
   },
   "source": [
    "# Hypothesis\n"
   ]
  },
  {
   "cell_type": "markdown",
   "metadata": {
    "id": "Yy4-pQqzysUq"
   },
   "source": [
    " ### Hypothesis:\n",
    " After excluding the factors not related to the home-field advantage, we expect that MLB teams have a far larger winning rate when playing in their home stadium compared to away, with the magnitude of that home-field advantage varying between teams based on factors such as fan support, travel distance, and familiarity with playing conditions.\n",
    "\n",
    "\n",
    "### Explanations:\n",
    " We expect teams to be performing better at home because of the psychological benefits of fan support, less travel fatigue, and field conditions. Also, shorter travel times and no jet lag will help players to perform much better than when playing in a visiting game. This hypothesis is inspired by substantial evidence in sports psychology and player metrics indicating that home-field advantage is one of the main players in team performance."
   ]
  },
  {
    "cell_type": "markdown",
    "metadata": {
      "id": "gIGb3KINysUq"
    },
    "source": [
      "# Data"
    ]
  },
  {
    "cell_type": "markdown",
    "metadata": {
      "id": "DkRBsagBysUr"
    },
    "source": [
      "This project aims to investigate how playing in an opposing team's stadium could affect a player's performance, considering both stress-related factors and standard game statistics. To effectively answer our question, we need a comprehensive dataset that includes all the factors that contribute to a player's performance.\n",
      "\n",
      "## Ideal Dataset\n",
      "\n",
      "**Variables to Include:**\n",
      "\n",
      "**Stress Factors:**\n",
      "  - **Travel Time to Stadium (continuous)**: Total time taken by the team to travel to the opposing stadium.\n",
      "  - **Jet Lag Difference (continuous)**: Time zone differences between the home city and the opposing team's city.\n",
      "  - **Audience Size (discrete)**: Total number of spectators present at the game.\n",
      "  - **Home Team Fan Ratio (continuous)**: Percentage of the audience supporting the home team.\n",
      "  - **Cheering Volume (continuous)**: How loud the crowd is cheering, average decibel levels of the crowd during the game.\n",
      "  - **Incidents of Booing (categorical)**: Whether the players experienced booing from the crowd (Yes/No).\n",
      "\n",
      "**Player's Performance Factors:**\n",
      "\n",
      "  - **Performance Metrics (continuous):** Advanced statistics indicating overperformance or underperformance, such as Weighted On-Base Average (wOBA) for batters and Fielding Independent Pitching (FIP) for pitchers.\n",
      "  - **Injury Status (categorical):** Current or recent injuries (Healthy, Injured, Recovering).\n",
      "\n",
      "When we say 'ordinal game data,' we at least expect the data to have standard stats such as:\n",
      "\n",
      "- **Batting Statistics:**\n",
      "  - Batting Average (BA)\n",
      "  - Home Runs (HR)\n",
      "  - Runs Batted In (RBI)\n",
      "  - Runs Scored (R)\n",
      "  - Stolen Bases (SB)\n",
      "\n",
      "- **Pitching Statistics:**\n",
      "  - Wins\n",
      "  - Earned Run Average (ERA)\n",
      "  - Walks Plus Hits per Inning Pitched (WHIP)\n",
      "  - Strikeouts\n",
      "  - Saves\n",
      "\n",
      "- **Data Collection and Organization:**\n",
      "  - **Observations:** These data are numerical values which could affect the players in either way. They should be collected by the MLB or by the home team. Observations are expected to be made at every game, so \\(162 \\\\times 30 \\\\div 2 = 2430\\) observations per year for the stress factors. The observations for the player factors should be at least 20 times more than the stress factors.\n",
      "  - **Collection Methods:** Some data around the audience would be difficult to measure, such as how many home team fans there are in the audience. One way to measure this is by counting people wearing merchandise related to either team or player. Ideally, it could be counted when people enter the stadium, but it would be tough to accomplish in the real world.\n",
      "  - **Storage:** Data will be organized in a structured format like CSV files, ensuring our data's cleanliness and accessibility for analysis.\n",
      "\n",
      "**Confounding Variables**\n",
      "\n",
      "To ensure proper validity of our data, we have to account for the confounding variables that would influence player performance outside of the stress of playing in opposing stadiums. These would include:\n",
      "\n",
      "- **Weather Conditions:** Temperature, humidity, and wind speed can affect game dynamics.\n",
      "- **Player Fatigue:** Number of consecutive games played without rest.\n",
      "- **Team Dynamics:** Changes in team composition or management.\n",
      "- **Historical Performance:** Players' past performance trends.\n",
      "\n",
      "**Specific Metrics for Fan Engagement**\n",
      "\n",
      "Measuring fan engagement is important to understanding its impact on player stress levels. We will use the following metrics:\n",
      "\n",
      "- **Attendance Numbers:** Official counts of spectators present at each game.\n",
      "- **Home Team Fan Ratio:** Estimated percentage of home team supporters, possibly inferred from the ticket sales data.\n",
      "- **Cheering Volume (Decibel levels):** Average and peak crowd noise levels recorded during the game.\n",
      "- **Booing Incidents:** Frequency and intensity of negative crowd reactions.\n",
      "- **Social Media Sentiment:** Analysis of fan sentiments expressed on social media platforms.\n",
      "\n",
      "**Dealing with Missing or Proxy Data**\n",
      "\n",
      "Certain fan-related metrics, like the precise cheering volume or home team fan ratios, may not be readily available online. To address this:\n",
      "\n",
      "**Use of Proxies:**\n",
      "\n",
      "- **Cheering Volume:** If the decibel data is unavailable, use alternative indicators like combining the crowd size with the average noise levels in the stadium.\n",
      "- **Home Team Fan Ratio:** Estimate based on merchandise sales, team colors worn by fans, or social media check-ins.\n",
      "\n",
      "**Impact Assessment:**\n",
      "\n",
      "- **Sensitivity Analysis:** See how changing our estimates affects the results to check if they're still reliable.\n",
      "- **Acknowledgment of Limitations:** Clearly state any potential biases introduced due to missing or proxy data in the final analysis.\n",
      "\n",
      "## Potential Real Datasets\n",
      "\n",
      "1. **Injury Report Data:**\n",
      "   - **Source:** [FanGraphs MLB Injury Report](https://www.fangraphs.com/roster-resource/injury-report?injury=&timeframe=all&status=)\n",
      "   - **Provides:** Comprehensive injury tracking information across all Major League Baseball teams.\n",
      "\n",
      "2. **Baseball Reference Game Logs:**\n",
      "   - **Source:** [Baseball Reference](https://www.baseball-reference.com/leagues/majors/2023-schedule.shtml)\n",
      "   - **Provides:** Game results, scores, attendance, day/night status.\n",
      "\n",
      "3. **Ballpark Factors Database:**\n",
      "   - **Source:** [Statcast Park Factors](https://baseballsavant.mlb.com/leaderboard/statcast-park-factors?type=year&year=2024&batSide=&stat=index_wOBA&condition=All&rolling=&sort=3&sortDir=desc)\n",
      "   - **Provides:** Stadium characteristics, including dimensions, altitude, and capacity.\n",
      "\n",
      "4. **Win/Loss Data:**\n",
      "   - **Source:** [Retrosheet Game Logs](https://www.retrosheet.org/boxesetc/index.html)\n",
      "   - **Provides:** Game-level statistics, including outcomes, locations, times, and weather conditions.\n"
   ]
  },
  {
   "cell_type": "markdown",
   "metadata": {},
   "source": [
    "# Ethics & Privacy"
   ]
  },
  {
   "cell_type": "markdown",
   "metadata": {
    "id": "6gdmZgzhysUr"
   },
   "source": [
    "- The primary data sources would include available MLB statistics (from MLB or 3rd-party), player performance metrics, and environmental factors like weather and travel distances. While this form of data is publicly accessible, there could be some bias in the overrepresentation of certain teams, seasons, or players. The privacy issues would be minimal, as this data involves professional athletes and publicly held games; therefore, much of the statistics and game information would be in the public domain. Terms of use issues would be that some data sources might have restrictions on how their data can be used, as it might violate some of their terms of service if not done properly.\n",
    "\n",
    "- There are potential biases, like sampling biases, if the dataset doesn't cover all the teams equally or doesn't include certain seasons or games. Different methods of data collection would create some inaccuracies, like, for example, the weather. Weather data collected from far from the station might not accurately reflect the weather conditions of the game. Also, with the distribution of fans, more popular teams would have a larger market size and budget. Allowing these teams to afford better facilities, hire better players, trainers, and travel accommodations.\n",
    "\n",
    "- To adresss the confounding variables and any biases they might introduce, we plan to identify and include variables, such as weather conditions, player fatigue and injury, team dynamics, and historical performance to control their impact on the analysis. Aligning and keeping our data collection procedures the same across the board, in order to minimize any inconsistencies, as well as sensitivity analyses will further allow us to see if our results change with different assumptions about the confounding variables. In order for organization, we would document and report our procedures with each other and on the notebook, this will ensure transparency on how these confounding variasbles are being handled and would assist us in discussing its potential impact for our end result.\n",
    "\n",
    "- Before analysis, perform a proper check on all datasets to see if we missed any values, outliers, or inconsistencies. Ensure that all teams, players, team compositions, and seasons are properly represented in the data. Sourcing data from credible and reliable sources to ensure accurate data.\n",
    "\n",
    "- If this data were to be used beyond its intended scope, it might violate some sources’ terms of service, which would lead to some legal and ethical issues. If data steers towards the need to include players’ health, some HIPAA violations would be possible. When analyzing fan attitudes, we need to be careful of perpetuating stereotypes or offending certain groups.\n",
    "\n",
    "- We will be using appropriate methods to account for any missing information, gathered properly through data sources that we’ve carefully read and followed their terms of service. If there are restrictions, we will look for any alternative data sources that are open to the public and free to use. When comparing our data, to ensure its accuracy, we use reliable sources to check, as well as thoroughly clean the data to fix any errors or inconsistencies. Present our findings without biases and openly discuss any limitations or potential biases in our studies.\n",
    "\n",
    "\n"
   ]
  },
  {
   "cell_type": "markdown",
   "metadata": {
    "id": "lBxeM-fGysUr"
   },
   "source": [
    "# Team Expectations"
   ]
  },
  {
   "cell_type": "markdown",
   "metadata": {
    "id": "_3Rcm8cBysUr"
   },
   "source": [
    "\n",
    "Read over the [COGS108 Team Policies](https://github.com/COGS108/Projects/blob/master/COGS108_TeamPolicies.md) individually. Then, include your group’s expectations of one another for successful completion of your COGS108 project below. Discuss and agree on what all of your expectations are. Discuss how your team will communicate throughout the quarter and consider how you will communicate respectfully should conflicts arise. By including each member’s name above and by adding their name to the submission, you are indicating that you have read the COGS108 Team Policies, accept your team’s expectations below, and have every intention to fulfill them. These expectations are for your team’s use and benefit — they won’t be graded for their details.\n",
    "\n",
    "\n",
    "* Commitment to Timely Contribution:\n",
    "Everyone should adhere to deadlines set by the group to ensure that work progresses smoothly.\n",
    "If someone is unable to complete a task on time, they should inform the team as soon as possible so that adjustments can be made.\n",
    "\n",
    "* Communication Protocols:\n",
    "The team will primarily communicate through  Discord.\n",
    "We will meet weekly on Monday at Geisel to assign new tasks, and to address any concerns.\n",
    "Everyone in the group are expected to check the Discord daily. If there's a post on Discord, at least a discord-emoji-reaction is expected to make sure everyone read the post. Constructive responses are appreciated.\n",
    "\n",
    "* Respectful Conflict Resolution:\n",
    "If conflicts arise, the team will discuss them during scheduled meetings calmly and respectfully. The aim will always be to understand one another’s perspectives and find a solution that works for everyone.\n",
    "\n",
    "* Task Delegation and Roles:\n",
    "Tasks will be assigned based on each member and everyone is encouraged to participate in decision-making to distribute responsibilities equitably.\n",
    "Team members are encouraged to assist each other when someone needs help. Collaboration is key to the project’s success.\n",
    "\n",
    "* Work Quality and Effort:\n",
    "Everyone should feel comfortable offering constructive feedback and asking questions whenever clarification is needed.\n",
    "\n",
    "* Accountability:\n",
    "Each member will be responsible for the tasks they are assigned. If unexpected situations arise, make sure to mention it on Discord as soon as possible. Remember that everyone in the group are UCSD students and are busy having their assignments/exams as well as you are.\n",
    "\n",
    "* Inclusiveness and Respect:\n",
    "All opinions and ideas will be treated with respect. Contributions from every team member are valuable, and everyone will be encouraged to speak up during discussions."
   ]
  },
  {
   "cell_type": "markdown",
   "metadata": {
    "id": "89FsNIFPysUr"
   },
   "source": [
    "# Project Timeline Proposal"
   ]
  },
  {
   "cell_type": "markdown",
   "metadata": {
    "id": "4ElDrI4aysUr"
   },
   "source": [
    "Specify your team's specific project timeline. An example timeline has been provided. Changes the dates, times, names, and details to fit your group's plan.\n",
    "\n",
    "If you think you will need any special resources or training outside what we have covered in COGS 108 to solve your problem, then your proposal should state these clearly. For example, if you have selected a problem that involves implementing multiple neural networks, please state this so we can make sure you know what you’re doing and so we can point you to resources you will need to implement your project. Note that you are not required to use outside methods.\n",
    "\n",
    "\n",
    "\n",
    "| Meeting Date  | Meeting Time| Completed Before Meeting  | Discuss at Meeting |\n",
    "|---|---|---|---|\n",
    "| Every Monday  |  12 PM | Read the progress made during Last Week  | One-hour weekly meeting at Geisel to share the progress and plans |\n",
    "| 10/30 |  12 PM |  Read what we need for project proposal | Discuss and make progress to submit the project proposal. |\n",
    "| 10/30  | Deadline  |  Project Proposal | Finish and push the final data to Github by the end of the day  |\n",
    "|11/4| 12 PM | Read the DataCheckPoint file to understand what we need for the submission | Discuss who will do which part and make the schedule concrete. |\n",
    "| 11/11 | 12 PM | Read the progress made by the group until Sunday | Discuss if there's any problem and make sure we can submit them on Wednesday. |\n",
    "| 11/13  | Deadline  | Checkpoint #1: Data | Finish and push the final data to Github by the end of the day  |\n",
    "| 11/18 | 12 PM | Read the progress made by the group until Sunday | Discuss who will do which part and make the schedule concrete. |\n",
    "| 11/25 | 12 PM | Read the progress made by the group until Sunday | Discuss if there's any problem and make sure we can submit them on Wednesday. |\n",
    "| 11/27  | Deadline  | Checkpoint #2: EDA | Finish and push the final data to Github by the end of the day |\n",
    "| 12/11 | Deadline | Final submission | |"
   ]
  }
 ],
 "metadata": {
  "colab": {
   "provenance": []
  },
  "kernelspec": {
   "display_name": "Python 3 (ipykernel)",
   "language": "python",
   "name": "python3"
  },
  "language_info": {
   "codemirror_mode": {
    "name": "ipython",
    "version": 3
   },
   "file_extension": ".py",
   "mimetype": "text/x-python",
   "name": "python",
   "nbconvert_exporter": "python",
   "pygments_lexer": "ipython3",
   "version": "3.11.7"
  }
 },
 "nbformat": 4,
 "nbformat_minor": 4
}
